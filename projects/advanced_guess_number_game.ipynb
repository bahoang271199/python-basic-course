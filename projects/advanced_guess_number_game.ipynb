{
 "cells": [
  {
   "cell_type": "markdown",
   "metadata": {},
   "source": [
    "# Advanced Guess the Number Game (Console-based)\n",
    "\n",
    "This project will develop an interactive \"Guess the Number\" game in the console. The computer will choose a random number, and the player will try to guess it. The game will provide hints and store high scores as well as game history."
   ]
  },
  {
   "cell_type": "markdown",
   "metadata": {},
   "source": [
    "---\n",
    "\n",
    "## 1. Initialization and Configuration\n",
    "\n",
    "We'll import necessary modules (`random` for random numbers, `json` to save high scores) and define global variables."
   ]
  },
  {
   "cell_type": "code",
   "execution_count": 1,
   "metadata": {},
   "outputs": [
    {
     "name": "stdout",
     "output_type": "stream",
     "text": [
      "Guess the Number Game started.\n"
     ]
    }
   ],
   "source": [
    "import random\n",
    "import json\n",
    "import os\n",
    "\n",
    "# Path to the high scores file\n",
    "HIGH_SCORES_FILE = 'high_scores.json'\n",
    "# Global variable to store high scores (fewest attempts)\n",
    "high_scores = []\n",
    "\n",
    "print(\"Guess the Number Game started.\")"
   ]
  },
  {
   "cell_type": "markdown",
   "metadata": {},
   "source": [
    "---\n",
    "\n",
    "## 2. Load and Save High Scores\n",
    "\n",
    "Functions to load and save high scores from a JSON file. This helps maintain high scores across game sessions."
   ]
  },
  {
   "cell_type": "code",
   "execution_count": 2,
   "metadata": {},
   "outputs": [
    {
     "name": "stdout",
     "output_type": "stream",
     "text": [
      "High scores file not found. Starting with new high scores.\n"
     ]
    }
   ],
   "source": [
    "def load_high_scores():\n",
    "    \"\"\"Loads high scores from the JSON file.\"\"\"\n",
    "    global high_scores\n",
    "    if os.path.exists(HIGH_SCORES_FILE):\n",
    "        try:\n",
    "            with open(HIGH_SCORES_FILE, 'r', encoding='utf-8') as f:\n",
    "                high_scores = json.load(f)\n",
    "            print(\"High scores loaded successfully.\")\n",
    "        except json.JSONDecodeError:\n",
    "            print(\"Error: High scores file is corrupted. Starting with empty high scores.\")\n",
    "            high_scores = []\n",
    "        except Exception as e:\n",
    "            print(f\"Unknown error loading high scores: {e}. Starting with empty high scores.\")\n",
    "            high_scores = []\n",
    "    else:\n",
    "        print(\"High scores file not found. Starting with new high scores.\")\n",
    "        high_scores = []\n",
    "\n",
    "def save_high_scores():\n",
    "    \"\"\"Saves high scores to the JSON file.\"\"\"\n",
    "    try:\n",
    "        # Sort high scores before saving (fewer attempts are better)\n",
    "        high_scores.sort(key=lambda x: x['attempts'])\n",
    "        # Keep only the top 5 or 10 high scores\n",
    "        with open(HIGH_SCORES_FILE, 'w', encoding='utf-8') as f:\n",
    "            json.dump(high_scores[:10], f, indent=4, ensure_ascii=False)\n",
    "        print(\"High scores saved successfully.\")\n",
    "    except Exception as e:\n",
    "        print(f\"Error saving high scores: {e}\")\n",
    "\n",
    "# Load high scores on startup\n",
    "load_high_scores()"
   ]
  },
  {
   "cell_type": "markdown",
   "metadata": {},
   "source": [
    "---\n",
    "\n",
    "## 3. High Score Display Function\n",
    "\n",
    "This function will print the list of saved high scores, helping players track their achievements."
   ]
  },
  {
   "cell_type": "code",
   "execution_count": 3,
   "metadata": {},
   "outputs": [],
   "source": [
    "def display_high_scores():\n",
    "    \"\"\"Displays the list of high scores.\"\"\"\n",
    "    print(\"\\n--- HIGH SCORES ---\")\n",
    "    if not high_scores:\n",
    "        print(\"No high scores recorded yet.\")\n",
    "        return\n",
    "\n",
    "    print(\"Rank | Player Name    | Attempts\")\n",
    "    print(\"-----------------------------------\")\n",
    "    for i, score_entry in enumerate(high_scores):\n",
    "        print(f\"{i+1:<4} | {score_entry['player_name']:<14} | {score_entry['attempts']:<12}\")\n",
    "    print(\"-----------------------------------\")"
   ]
  },
  {
   "cell_type": "markdown",
   "metadata": {},
   "source": [
    "---\n",
    "\n",
    "## 4. Main Game Logic (`play_game()`)\n",
    "\n",
    "This is the heart of the game, where the random number is generated, the player guesses, and receives hints. This function will also handle updating high scores if the player breaks a record."
   ]
  },
  {
   "cell_type": "code",
   "execution_count": 4,
   "metadata": {},
   "outputs": [],
   "source": [
    "def play_game():\n",
    "    \"\"\"Contains the main logic of the Guess the Number game.\"\"\"\n",
    "    print(\"\\n--- STARTING NEW GAME ---\")\n",
    "    \n",
    "    min_num = 1\n",
    "    max_num = 100\n",
    "    secret_number = random.randint(min_num, max_num)\n",
    "    attempts = 0\n",
    "    \n",
    "    print(f\"I have chosen a secret number from {min_num} to {max_num}. Take a guess!\")\n",
    "\n",
    "    while True:\n",
    "        try:\n",
    "            guess = int(input(\"Enter your guess: \"))\n",
    "            attempts += 1\n",
    "\n",
    "            if guess < min_num or guess > max_num:\n",
    "                print(f\"Your guess must be between {min_num} and {max_num}.\")\n",
    "            elif guess < secret_number:\n",
    "                print(\"A bit higher!\")\n",
    "            elif guess > secret_number:\n",
    "                print(\"A bit lower!\")\n",
    "            else:\n",
    "                print(f\"Congratulations! You guessed the number {secret_number} in {attempts} attempts!\")\n",
    "                \n",
    "                # Update high scores\n",
    "                player_name = input(\"Enter your name to save your high score: \").strip()\n",
    "                if not player_name: player_name = \"Anonymous\"\n",
    "\n",
    "                high_scores.append({'player_name': player_name, 'attempts': attempts})\n",
    "                save_high_scores()\n",
    "                break # Exit game loop\n",
    "        except ValueError:\n",
    "            print(\"Invalid input. Please enter an integer.\")\n",
    "        except Exception as e:\n",
    "            print(f\"An unexpected error occurred: {e}\")"
   ]
  },
  {
   "cell_type": "markdown",
   "metadata": {},
   "source": [
    "---\n",
    "\n",
    "## 5. Main Menu Loop\n",
    "\n",
    "The `main_menu()` function will display options to the player (play game, view high scores, exit) and control the application flow."
   ]
  },
  {
   "cell_type": "code",
   "execution_count": 5,
   "metadata": {},
   "outputs": [
    {
     "name": "stdout",
     "output_type": "stream",
     "text": [
      "\n",
      "--- GUESS THE NUMBER GAME MENU ---\n",
      "1. Play Game\n",
      "2. View High Scores\n",
      "3. Exit\n",
      "-------------------------------\n",
      "\n",
      "--- STARTING NEW GAME ---\n",
      "I have chosen a secret number from 1 to 100. Take a guess!\n",
      "A bit higher!\n",
      "A bit higher!\n",
      "A bit higher!\n",
      "A bit higher!\n",
      "A bit lower!\n",
      "A bit higher!\n",
      "A bit higher!\n",
      "A bit higher!\n",
      "Congratulations! You guessed the number 98 in 9 attempts!\n",
      "High scores saved successfully.\n",
      "\n",
      "--- GUESS THE NUMBER GAME MENU ---\n",
      "1. Play Game\n",
      "2. View High Scores\n",
      "3. Exit\n",
      "-------------------------------\n",
      "\n",
      "--- HIGH SCORES ---\n",
      "Rank | Player Name    | Attempts\n",
      "-----------------------------------\n",
      "1    | hoang          | 9           \n",
      "-----------------------------------\n",
      "\n",
      "--- GUESS THE NUMBER GAME MENU ---\n",
      "1. Play Game\n",
      "2. View High Scores\n",
      "3. Exit\n",
      "-------------------------------\n",
      "Thanks for playing! Goodbye!\n"
     ]
    }
   ],
   "source": [
    "def main_menu():\n",
    "    \"\"\"Displays the main menu and handles user choices.\"\"\"\n",
    "    while True:\n",
    "        print(\"\\n--- GUESS THE NUMBER GAME MENU ---\")\n",
    "        print(\"1. Play Game\")\n",
    "        print(\"2. View High Scores\")\n",
    "        print(\"3. Exit\")\n",
    "        print(\"-------------------------------\")\n",
    "\n",
    "        choice = input(\"Enter your choice: \").strip()\n",
    "\n",
    "        if choice == '1':\n",
    "            play_game()\n",
    "        elif choice == '2':\n",
    "            display_high_scores()\n",
    "        elif choice == '3':\n",
    "            print(\"Thanks for playing! Goodbye!\")\n",
    "            break\n",
    "        else:\n",
    "            print(\"Invalid choice. Please try again.\")\n",
    "\n",
    "# Run the main menu when the script is executed\n",
    "if __name__ == \"__main__\":\n",
    "    main_menu()"
   ]
  },
  {
   "cell_type": "markdown",
   "metadata": {},
   "source": [
    "---\n",
    "\n",
    "## 6. Conclusion\n",
    "\n",
    "You have built a complete Guess the Number game with high score saving/loading features! This project helped you reinforce your knowledge of: generating random numbers, game loops, handling user input, managing JSON files, and exception handling. You can extend this game with features like limiting the number of guesses, multiple difficulty levels, or saving detailed game history."
   ]
  }
 ],
 "metadata": {
  "kernelspec": {
   "display_name": "venv",
   "language": "python",
   "name": "python3"
  },
  "language_info": {
   "codemirror_mode": {
    "name": "ipython",
    "version": 3
   },
   "file_extension": ".py",
   "mimetype": "text/x-python",
   "name": "python",
   "nbconvert_exporter": "python",
   "pygments_lexer": "ipython3",
   "version": "3.12.7"
  }
 },
 "nbformat": 4,
 "nbformat_minor": 5
}
