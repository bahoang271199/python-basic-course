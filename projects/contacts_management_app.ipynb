{
 "cells": [
  {
   "cell_type": "markdown",
   "id": "af04a541",
   "metadata": {},
   "source": [
    "# Simple Contact Management Application (Console-based)\n",
    "\n",
    "This project will guide you through building a command-line interface (CLI) application for managing your contacts. We will use learned concepts about data types (List, Dictionary), functions, loops, conditional statements, exception handling, and JSON file operations to store data.\n",
    "\n",
    "---\n",
    "\n",
    "## 1. Initialization and Configuration\n",
    "\n",
    "We'll start by importing necessary modules and defining global variables to store contacts and the file path."
   ]
  },
  {
   "cell_type": "code",
   "execution_count": 9,
   "id": "dbebea2a",
   "metadata": {},
   "outputs": [
    {
     "name": "stdout",
     "output_type": "stream",
     "text": [
      "Contact Management Application started.\n"
     ]
    }
   ],
   "source": [
    "import json\n",
    "import os\n",
    "\n",
    "# Global variable to store contacts\n",
    "contacts = []\n",
    "# Path to the JSON file for storing contacts\n",
    "CONTACTS_FILE = 'contacts.json'\n",
    "\n",
    "print(\"Contact Management Application started.\")"
   ]
  },
  {
   "cell_type": "markdown",
   "id": "c42fc3b4",
   "metadata": {},
   "source": [
    "---\n",
    "\n",
    "## 2. Load and Save Contacts\n",
    "\n",
    "The two most important functions are `load_contacts()` and `save_contacts()`. `load_contacts()` will read data from the JSON file when the application starts, handling cases where the file doesn't exist or has a corrupted format. `save_contacts()` will write the current contact data to the JSON file."
   ]
  },
  {
   "cell_type": "code",
   "execution_count": 10,
   "id": "3bcf8e2c",
   "metadata": {},
   "outputs": [
    {
     "name": "stdout",
     "output_type": "stream",
     "text": [
      "Contacts file not found. Creating a new contact list.\n"
     ]
    }
   ],
   "source": [
    "def load_contacts():\n",
    "    \"\"\"Loads contacts from the JSON file.\"\"\"\n",
    "    global contacts # Declare to modify the global variable\n",
    "    if os.path.exists(CONTACTS_FILE):\n",
    "        try:\n",
    "            with open(CONTACTS_FILE, 'r', encoding='utf-8') as f:\n",
    "                contacts = json.load(f)\n",
    "            print(\"Contacts loaded successfully.\")\n",
    "        except json.JSONDecodeError:\n",
    "            print(\"Error: Contacts file is corrupted or not valid JSON. Starting with an empty contact list.\")\n",
    "            contacts = [] # Reset to empty list if there's an error\n",
    "        except Exception as e:\n",
    "            print(f\"Unknown error loading contacts: {e}. Starting with an empty contact list.\")\n",
    "            contacts = []\n",
    "    else:\n",
    "        print(\"Contacts file not found. Creating a new contact list.\")\n",
    "        contacts = []\n",
    "\n",
    "def save_contacts():\n",
    "    \"\"\"Saves contacts to the JSON file.\"\"\"\n",
    "    try:\n",
    "        with open(CONTACTS_FILE, 'w', encoding='utf-8') as f:\n",
    "            json.dump(contacts, f, indent=4, ensure_ascii=False)\n",
    "        print(\"Contacts saved successfully.\")\n",
    "    except Exception as e:\n",
    "        print(f\"Error saving contacts: {e}\")\n",
    "\n",
    "# Load contacts when the application starts\n",
    "load_contacts()"
   ]
  },
  {
   "cell_type": "markdown",
   "id": "bff3defa",
   "metadata": {},
   "source": [
    "---\n",
    "\n",
    "## 3. Contact Management Functions\n",
    "\n",
    "Now we will define functions for each main feature of the application: add, view, search, update, and delete contacts."
   ]
  },
  {
   "cell_type": "code",
   "execution_count": 11,
   "id": "6c152bb2",
   "metadata": {},
   "outputs": [],
   "source": [
    "def add_contact():\n",
    "    \"\"\"Adds a new contact to the contact list.\"\"\"\n",
    "    print(\"\\n--- Add New Contact ---\")\n",
    "    name = input(\"Enter name: \").strip()\n",
    "    phone = input(\"Enter phone number: \").strip()\n",
    "    email = input(\"Enter email (optional): \").strip()\n",
    "\n",
    "    if not name or not phone:\n",
    "        print(\"Name and Phone number cannot be empty.\")\n",
    "        return\n",
    "\n",
    "    new_contact = {\n",
    "        'name': name,\n",
    "        'phone': phone,\n",
    "        'email': email if email else 'N/A'\n",
    "    }\n",
    "    contacts.append(new_contact)\n",
    "    save_contacts()\n",
    "    print(\"Contact added.\")\n",
    "\n",
    "def view_contacts():\n",
    "    \"\"\"Displays all contacts in the contact list.\"\"\"\n",
    "    print(\"\\n--- Contact List ---\")\n",
    "    if not contacts:\n",
    "        print(\"Contact list is empty.\")\n",
    "        return\n",
    "\n",
    "    for i, contact in enumerate(contacts):\n",
    "        print(f\"{i+1}. Name: {contact['name']}, Phone: {contact['phone']}, Email: {contact['email']}\")\n",
    "\n",
    "def search_contact():\n",
    "    \"\"\"Searches for contacts by name.\"\"\"\n",
    "    print(\"\\n--- Search Contact ---\")\n",
    "    search_term = input(\"Enter name or part of name to search: \").strip().lower()\n",
    "    found_contacts = []\n",
    "    for contact in contacts:\n",
    "        if search_term in contact['name'].lower():\n",
    "            found_contacts.append(contact)\n",
    "    \n",
    "    if not found_contacts:\n",
    "        print(\"No matching contacts found.\")\n",
    "        return\n",
    "\n",
    "    print(\"\\n--- Search Results ---\")\n",
    "    for i, contact in enumerate(found_contacts):\n",
    "        print(f\"{i+1}. Name: {contact['name']}, Phone: {contact['phone']}, Email: {contact['email']}\")\n",
    "\n",
    "def update_contact():\n",
    "    \"\"\"Updates information of an existing contact.\"\"\"\n",
    "    print(\"\\n--- Update Contact ---\")\n",
    "    view_contacts()\n",
    "    if not contacts:\n",
    "        return\n",
    "\n",
    "    try:\n",
    "        index = int(input(\"Enter the number of the contact to update: \")) - 1\n",
    "        if 0 <= index < len(contacts):\n",
    "            contact = contacts[index]\n",
    "            print(f\"You are updating contact: {contact['name']}\")\n",
    "            \n",
    "            new_name = input(f\"Enter new name (current: {contact['name']}): \").strip()\n",
    "            new_phone = input(f\"Enter new phone number (current: {contact['phone']}): \").strip()\n",
    "            new_email = input(f\"Enter new email (current: {contact['email']}): \").strip()\n",
    "\n",
    "            if new_name: contact['name'] = new_name\n",
    "            if new_phone: contact['phone'] = new_phone\n",
    "            if new_email: contact['email'] = new_email\n",
    "            \n",
    "            save_contacts()\n",
    "            print(\"Contact updated.\")\n",
    "        else:\n",
    "            print(\"Invalid contact number.\")\n",
    "    except ValueError:\n",
    "        print(\"Invalid input. Please enter a number.\")\n",
    "\n",
    "def delete_contact():\n",
    "    \"\"\"Deletes a contact from the contact list.\"\"\"\n",
    "    print(\"\\n--- Delete Contact ---\")\n",
    "    view_contacts()\n",
    "    if not contacts:\n",
    "        return\n",
    "\n",
    "    try:\n",
    "        index = int(input(\"Enter the number of the contact to delete: \")) - 1\n",
    "        if 0 <= index < len(contacts):\n",
    "            deleted_contact = contacts.pop(index)\n",
    "            save_contacts()\n",
    "            print(f\"Deleted contact: {deleted_contact['name']}\")\n",
    "        else:\n",
    "            print(\"Invalid contact number.\")\n",
    "    except ValueError:\n",
    "        print(\"Invalid input. Please enter a number.\")"
   ]
  },
  {
   "cell_type": "markdown",
   "id": "c14d3b7a",
   "metadata": {},
   "source": [
    "---\n",
    "\n",
    "## 4. Main Menu and Application Loop\n",
    "\n",
    "Finally, we'll create the main application menu and a `while` loop so users can interact continuously until they choose to exit."
   ]
  },
  {
   "cell_type": "code",
   "execution_count": 12,
   "id": "f9937f52",
   "metadata": {},
   "outputs": [
    {
     "name": "stdout",
     "output_type": "stream",
     "text": [
      "\n",
      "--- CONTACT MENU ---\n",
      "1. Add Contact\n",
      "2. View All Contacts\n",
      "3. Search Contact\n",
      "4. Update Contact\n",
      "5. Delete Contact\n",
      "6. Exit\n",
      "---------------------\n",
      "Exiting application. Goodbye!\n"
     ]
    }
   ],
   "source": [
    "def display_menu():\n",
    "    \"\"\"Displays the menu options.\"\"\"\n",
    "    print(\"\\n--- CONTACT MENU ---\")\n",
    "    print(\"1. Add Contact\")\n",
    "    print(\"2. View All Contacts\")\n",
    "    print(\"3. Search Contact\")\n",
    "    print(\"4. Update Contact\")\n",
    "    print(\"5. Delete Contact\")\n",
    "    print(\"6. Exit\")\n",
    "    print(\"---------------------\")\n",
    "\n",
    "def main_app():\n",
    "    \"\"\"Main function controlling the application.\"\"\"\n",
    "    while True:\n",
    "        display_menu()\n",
    "        choice = input(\"Enter your choice: \").strip()\n",
    "\n",
    "        if choice == '1':\n",
    "            add_contact()\n",
    "        elif choice == '2':\n",
    "            view_contacts()\n",
    "        elif choice == '3':\n",
    "            search_contact()\n",
    "        elif choice == '4':\n",
    "            update_contact()\n",
    "        elif choice == '5':\n",
    "            delete_contact()\n",
    "        elif choice == '6':\n",
    "            print(\"Exiting application. Goodbye!\")\n",
    "            break # Exit the main loop\n",
    "        else:\n",
    "            print(\"Invalid choice. Please try again.\")\n",
    "\n",
    "# Run the application\n",
    "if __name__ == \"__main__\":\n",
    "    main_app()"
   ]
  },
  {
   "cell_type": "markdown",
   "id": "5e55a7b3",
   "metadata": {},
   "source": [
    "---\n",
    "\n",
    "## 5. Conclusion\n",
    "\n",
    "You have completed a basic contact management application! This project helped you practice important concepts such as data structures, functions, control flow, file handling, and error management. You can extend this application by adding features like better input validation, contact sorting, or a graphical user interface."
   ]
  }
 ],
 "metadata": {
  "kernelspec": {
   "display_name": "Python 3",
   "language": "python",
   "name": "python3"
  },
  "language_info": {
   "codemirror_mode": {
    "name": "ipython",
    "version": 3
   },
   "file_extension": ".py",
   "mimetype": "text/x-python",
   "name": "python",
   "nbconvert_exporter": "python",
   "pygments_lexer": "ipython3",
   "version": "3.9.7"
  }
 },
 "nbformat": 4,
 "nbformat_minor": 5
}
