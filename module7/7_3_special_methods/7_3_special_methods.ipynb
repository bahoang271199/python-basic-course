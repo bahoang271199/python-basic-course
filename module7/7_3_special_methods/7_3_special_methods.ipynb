{
 "cells": [
  {
   "cell_type": "markdown",
   "metadata": {},
   "source": [
    "# Lesson 7.3: Special Methods (Magic/Dunder Methods)\n",
    "\n",
    "In Python, you will frequently encounter methods whose names start and end with two underscores (e.g., `__init__`, `__str__`). These are called **Special Methods**, also known as **Magic Methods** or **Dunder Methods** (from \"double underscore\").\n",
    "\n",
    "These methods are not called directly by the programmer but are automatically invoked by Python in specific situations (e.g., when you use the `+` operator, the `print()` function, or compare objects). They allow you to define how your objects interact with Python's built-in operators and functions, making your code more \"Pythonic\" and intuitive.\n",
    "\n",
    "---\n",
    "\n",
    "## 1. Introduction to `__str__` and `__repr__` Methods\n",
    "\n",
    "These two methods are used to define how an object is represented as a string.\n",
    "\n",
    "### a. `__str__(self)`\n",
    "\n",
    "* Returns a **human-readable, user-friendly** string representation of the object.\n",
    "* Called by the `str()` function and the `print()` function.\n",
    "* Its main purpose is to display information about the object clearly to the end-user.\n",
    "\n",
    "### b. `__repr__(self)`\n",
    "\n",
    "* Returns an **unambiguous, developer-friendly** string representation of the object, typically a string that, if passed to the Python interpreter, could recreate the object (or an equivalent one).\n",
    "* Called by the `repr()` function and used by default when the object is displayed in the Python console (if `__str__` is not defined).\n",
    "* Its main purpose is for debugging and for developers.\n",
    "\n",
    "**Example:**"
   ]
  },
  {
   "cell_type": "code",
   "execution_count": 1,
   "metadata": {},
   "outputs": [
    {
     "name": "stdout",
     "output_type": "stream",
     "text": [
      "(10, 20)\n",
      "(10, 20)\n",
      "Point(x=10, y=20)\n"
     ]
    }
   ],
   "source": [
    "class Point:\n",
    "    def __init__(self, x, y):\n",
    "        self.x = x\n",
    "        self.y = y\n",
    "\n",
    "    def __str__(self):\n",
    "        \"\"\"User-friendly representation.\"\"\"\n",
    "        return f\"({self.x}, {self.y})\"\n",
    "\n",
    "    def __repr__(self):\n",
    "        \"\"\"Unambiguous representation for developers.\"\"\"\n",
    "        return f\"Point(x={self.x}, y={self.y})\"\n",
    "\n",
    "p = Point(10, 20)\n",
    "\n",
    "print(p)         # Calls __str__ -> Output: (10, 20)\n",
    "print(str(p))    # Calls __str__ -> Output: (10, 20)\n",
    "print(repr(p))   # Calls __repr__ -> Output: Point(x=10, y=20)\n",
    "\n",
    "# In a Python console, if __str__ is not present, repr will be used\n",
    "# p # Output: Point(x=10, y=20)"
   ]
  },
  {
   "cell_type": "markdown",
   "metadata": {},
   "source": [
    "---\n",
    "\n",
    "## 2. Comparison Methods\n",
    "\n",
    "These special methods allow you to define how your objects are compared using comparison operators (`==`, `!=`, `<`, `>`, `<=`, `>=`).\n",
    "\n",
    "* `__eq__(self, other)`: Defines the behavior for the equality operator (`==`).\n",
    "* `__ne__(self, other)`: Defines the behavior for the inequality operator (`!=`). (If `__eq__` is defined, `__ne__` will often automatically be `not __eq__`).\n",
    "* `__lt__(self, other)`: Defines the behavior for the less than operator (`<`).\n",
    "* `__le__(self, other)`: Defines the behavior for the less than or equal to operator (`<=`).\n",
    "* `__gt__(self, other)`: Defines the behavior for the greater than operator (`>`).\n",
    "* `__ge__(self, other)`: Defines the behavior for the greater than or equal to operator (`>=`).\n",
    "\n",
    "**Example:**"
   ]
  },
  {
   "cell_type": "code",
   "execution_count": 2,
   "metadata": {},
   "outputs": [
    {
     "name": "stdout",
     "output_type": "stream",
     "text": [
      "s1 == s2: False\n",
      "s1 == s3: True\n",
      "s1 < s2: True\n",
      "s2 > s3: True\n",
      "s1 != s2: True\n"
     ]
    }
   ],
   "source": [
    "class Score:\n",
    "    def __init__(self, value):\n",
    "        self.value = value\n",
    "\n",
    "    def __eq__(self, other):\n",
    "        \"\"\"Compares equality based on value.\"\"\"\n",
    "        if isinstance(other, Score):\n",
    "            return self.value == other.value\n",
    "        return NotImplemented # Allows comparison with other types if needed\n",
    "\n",
    "    def __lt__(self, other):\n",
    "        \"\"\"Compares less than based on value.\"\"\"\n",
    "        if isinstance(other, Score):\n",
    "            return self.value < other.value\n",
    "        return NotImplemented\n",
    "\n",
    "    def __str__(self):\n",
    "        return f\"Score({self.value})\"\n",
    "\n",
    "s1 = Score(80)\n",
    "s2 = Score(90)\n",
    "s3 = Score(80)\n",
    "\n",
    "print(f\"s1 == s2: {s1 == s2}\") # Calls __eq__ -> Output: False\n",
    "print(f\"s1 == s3: {s1 == s3}\") # Calls __eq__ -> Output: True\n",
    "print(f\"s1 < s2: {s1 < s2}\")   # Calls __lt__ -> Output: True\n",
    "print(f\"s2 > s3: {s2 > s3}\")   # Calls __gt__ (Python infers from __lt__ or needs explicit definition) -> Output: True\n",
    "print(f\"s1 != s2: {s1 != s2}\") # Calls __ne__ (inferred from __eq__) -> Output: True"
   ]
  },
  {
   "cell_type": "markdown",
   "metadata": {},
   "source": [
    "**Note:** If you define `__lt__`, Python can automatically infer `__le__`, `__gt__`, `__ge__` operations if they are not explicitly defined, but defining all of them makes it clearer. The `functools.total_ordering` module can help you automatically generate the remaining comparison methods if you define `__eq__` and one of `__lt__`, `__le__`, `__gt__`, `__ge__`.\n",
    "\n",
    "---\n",
    "\n",
    "## 3. Arithmetic Methods\n",
    "\n",
    "These special methods allow you to define how your objects interact with arithmetic operators (`+`, `-`, `*`, `/`, etc.).\n",
    "\n",
    "* `__add__(self, other)`: Defines the behavior for the addition operator (`+`).\n",
    "* `__sub__(self, other)`: Defines the behavior for the subtraction operator (`-`).\n",
    "* `__mul__(self, other)`: Defines the behavior for the multiplication operator (`*`).\n",
    "* `__truediv__(self, other)`: Defines the behavior for the true division operator (`/`).\n",
    "* `__floordiv__(self, other)`: Defines the behavior for the floor division operator (`//`).\n",
    "* `__mod__(self, other)`: Defines the behavior for the modulo (remainder) operator (`%`).\n",
    "* `__pow__(self, other)`: Defines the behavior for the exponentiation operator (`**`).\n",
    "\n",
    "**Example:**"
   ]
  },
  {
   "cell_type": "code",
   "execution_count": 3,
   "metadata": {},
   "outputs": [
    {
     "name": "stdout",
     "output_type": "stream",
     "text": [
      "v1 + v2 = Vector(4, 6)\n",
      "v1 * 5 = Vector(5, 10)\n"
     ]
    }
   ],
   "source": [
    "class Vector:\n",
    "    def __init__(self, x, y):\n",
    "        self.x = x\n",
    "        self.y = y\n",
    "\n",
    "    def __add__(self, other):\n",
    "        \"\"\"Adds two vectors.\"\"\"\n",
    "        if isinstance(other, Vector):\n",
    "            return Vector(self.x + other.x, self.y + other.y)\n",
    "        return NotImplemented\n",
    "\n",
    "    def __mul__(self, scalar):\n",
    "        \"\"\"Multiplies a vector by a scalar.\"\"\"\n",
    "        if isinstance(scalar, (int, float)):\n",
    "            return Vector(self.x * scalar, self.y * scalar)\n",
    "        return NotImplemented\n",
    "\n",
    "    def __str__(self):\n",
    "        return f\"Vector({self.x}, {self.y})\"\n",
    "\n",
    "v1 = Vector(1, 2)\n",
    "v2 = Vector(3, 4)\n",
    "\n",
    "# Use the + operator (calls __add__)\n",
    "v3 = v1 + v2\n",
    "print(f\"v1 + v2 = {v3}\") # Output: Vector(4, 6)\n",
    "\n",
    "# Use the * operator (calls __mul__)\n",
    "v4 = v1 * 5\n",
    "print(f\"v1 * 5 = {v4}\") # Output: Vector(5, 10)\n",
    "\n",
    "# Try multiplying with an unsupported type\n",
    "# v5 = v1 * \"abc\" # This would raise a TypeError if __mul__ returns NotImplemented and no __rmul__ exists"
   ]
  },
  {
   "cell_type": "markdown",
   "metadata": {},
   "source": [
    "These special methods help your objects behave like Python's built-in data types, making your code more intuitive and easier to use.\n",
    "\n",
    "---\n",
    "\n",
    "**Practice Exercises:**\n",
    "\n",
    "1.  **`__str__` and `__repr__`:**\n",
    "    * Define a `Book` Class with `title` and `author` attributes.\n",
    "    * Implement the `__str__` method to return a user-friendly string: `\"Title: <title>, Author: <author>\"`.\n",
    "    * Implement the `__repr__` method to return a string that can recreate the object: `\"Book('<title>', '<author>')\"`\n",
    "    * Create a `Book` object and print it using `print()` and `repr()`.\n",
    "2.  **Comparison Methods:**\n",
    "    * Define a `Temperature` Class with a `celsius` (Celsius degree) attribute.\n",
    "    * Implement `__eq__` to compare if two `Temperature` objects are equal.\n",
    "    * Implement `__lt__` to compare if one `Temperature` object is less than another (e.g., `temp1 < temp2`).\n",
    "    * Create different `Temperature` objects and try comparison operations `==`, `!=`, `<`, `>`.\n",
    "3.  **Arithmetic Methods:**\n",
    "    * Define a `Fraction` Class with `numerator` and `denominator` attributes.\n",
    "    * Implement `__add__` to add two `Fraction` objects. (Hint: to add two fractions $a/b + c/d = (ad + bc) / bd$).\n",
    "    * Implement `__mul__` to multiply two `Fraction` objects. (Hint: $(a/b) * (c/d) = (ac) / (bd)$).\n",
    "    * Implement `__str__` to display the fraction as \"numerator/denominator\".\n",
    "    * Create two `Fraction` objects and try adding and multiplying them."
   ]
  }
 ],
 "metadata": {
  "kernelspec": {
   "display_name": "venv",
   "language": "python",
   "name": "python3"
  },
  "language_info": {
   "codemirror_mode": {
    "name": "ipython",
    "version": 3
   },
   "file_extension": ".py",
   "mimetype": "text/x-python",
   "name": "python",
   "nbconvert_exporter": "python",
   "pygments_lexer": "ipython3",
   "version": "3.12.7"
  }
 },
 "nbformat": 4,
 "nbformat_minor": 5
}
