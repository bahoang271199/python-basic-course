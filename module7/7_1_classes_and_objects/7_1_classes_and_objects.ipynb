{
 "cells": [
  {
   "cell_type": "markdown",
   "metadata": {},
   "source": [
    "# Lesson 7.1: Classes and Objects\n",
    "\n",
    "In Python programming, especially as you start building more complex applications, understanding and utilizing **Object-Oriented Programming (OOP)** is crucial. This lesson will introduce two core concepts of OOP: **Classes** and **Objects**.\n",
    "\n",
    "---\n",
    "\n",
    "## 1. Concept of Class and Object\n",
    "\n",
    "### a. Class\n",
    "\n",
    "Think of a **Class** as a blueprint, a template, or a definition for a certain type of object. It is not the object itself, but rather a description of how objects of that type will be created.\n",
    "\n",
    "A Class defines:\n",
    "* **Attributes:** The data or characteristics that objects of that Class will have (e.g., name, age, color).\n",
    "* **Methods:** The behaviors or functions that objects of that Class can perform (e.g., run, speak, calculate).\n",
    "\n",
    "### b. Object\n",
    "\n",
    "An **Object** (also known as an instance) is a concrete entity created from a Class. If a Class is the blueprint, then an Object is the actual house built based on that blueprint. Each Object will have the attributes and methods defined in the Class, but with its own distinct values.\n",
    "\n",
    "**Example:**\n",
    "* **Class:** `Dog` (Blueprint for a dog)\n",
    "* **Objects:** `my_dog` (my dog), `neighbor_dog` (neighbor's dog)\n",
    "    * `my_dog` might have attributes `name = \"Buddy\"`, `breed = \"Labrador\"`.\n",
    "    * `neighbor_dog` might have attributes `name = \"Max\"`, `breed = \"German Shepherd\"`.\n",
    "    * Both can perform the method `bark()`.\n",
    "\n",
    "---\n",
    "\n",
    "## 2. Defining Classes in Python\n",
    "\n",
    "You define a Class using the `class` keyword, followed by the Class name and a colon `:`. By convention, Class names typically start with an uppercase letter (PascalCase).\n",
    "\n",
    "**Basic Syntax:**\n",
    "\n",
    "```python\n",
    "class ClassName:\n",
    "    # Class attributes and methods\n",
    "    pass # 'pass' is a placeholder statement that does nothing\n",
    "```\n",
    "\n",
    "**Example:**"
   ]
  },
  {
   "cell_type": "code",
   "execution_count": 1,
   "metadata": {},
   "outputs": [],
   "source": [
    "class Car:\n",
    "    pass # A simple Class with no attributes or methods yet"
   ]
  },
  {
   "cell_type": "markdown",
   "metadata": {},
   "source": [
    "---\n",
    "\n",
    "## 3. Attributes and Methods\n",
    "\n",
    "### a. Attributes\n",
    "\n",
    "**Attributes** are variables that store data related to an object. There are two main types:\n",
    "* **Class Attributes:** Shared by all objects of the Class.\n",
    "* **Instance Attributes:** Unique to each object.\n",
    "\n",
    "In this lesson, we will focus on Instance Attributes, which are defined in the `__init__` method.\n",
    "\n",
    "### b. Methods\n",
    "\n",
    "**Methods** are functions defined inside a Class. They perform actions or operations on the object's data. Methods always take `self` as their first parameter.\n",
    "\n",
    "**Example:**"
   ]
  },
  {
   "cell_type": "code",
   "execution_count": 2,
   "metadata": {},
   "outputs": [],
   "source": [
    "class Dog:\n",
    "    # Class attribute (shared by all Dog instances)\n",
    "    species = \"Canis familiaris\"\n",
    "\n",
    "    # Constructor method (explained in more detail later)\n",
    "    def __init__(self, name, breed):\n",
    "        # Instance attributes (unique to each Dog)\n",
    "        self.name = name\n",
    "        self.breed = breed\n",
    "\n",
    "    # Instance method\n",
    "    def bark(self):\n",
    "        print(f\"{self.name} says Woof!\")\n",
    "\n",
    "    def describe(self):\n",
    "        print(f\"{self.name} is a {self.breed} of species {self.species}.\")"
   ]
  },
  {
   "cell_type": "markdown",
   "metadata": {},
   "source": [
    "---\n",
    "\n",
    "## 4. The Constructor Method (`__init__`)\n",
    "\n",
    "The special method `__init__` (pronounced \"dunder init\" - double underscore init) is a **constructor method**. It is automatically called every time you create a new object from the Class. The primary purpose of `__init__` is to initialize the object's initial state by assigning values to its attributes.\n",
    "\n",
    "**Syntax:**\n",
    "\n",
    "```python\n",
    "def __init__(self, param1, param2, ...):\n",
    "    self.attribute1 = param1\n",
    "    self.attribute2 = param2\n",
    "    # ...\n",
    "```\n",
    "\n",
    "* `self`: The first required parameter. It represents the instance of the object being created itself.\n",
    "* `param1, param2, ...`: Other parameters you want to pass when creating the object to initialize its attributes.\n",
    "\n",
    "**Example:**"
   ]
  },
  {
   "cell_type": "code",
   "execution_count": 3,
   "metadata": {},
   "outputs": [
    {
     "name": "stdout",
     "output_type": "stream",
     "text": [
      "A new Person object has been created: Alice, 30 years old.\n",
      "A new Person object has been created: Bob, 25 years old.\n"
     ]
    }
   ],
   "source": [
    "class Person:\n",
    "    def __init__(self, name, age):\n",
    "        self.name = name # Initialize 'name' attribute\n",
    "        self.age = age   # Initialize 'age' attribute\n",
    "        print(f\"A new Person object has been created: {self.name}, {self.age} years old.\")\n",
    "\n",
    "# When you create an object, __init__ will automatically run\n",
    "person1 = Person(\"Alice\", 30)\n",
    "person2 = Person(\"Bob\", 25)"
   ]
  },
  {
   "cell_type": "markdown",
   "metadata": {},
   "source": [
    "---\n",
    "\n",
    "## 5. The `self` Keyword\n",
    "\n",
    "`self` is a convention (not a mandatory Python keyword, but highly recommended) used as the first parameter in all Class methods, including `__init__`.\n",
    "\n",
    "* `self` represents the **instance** of the Class on which the method is being called.\n",
    "* It allows methods to access and manipulate other attributes and methods of the same object.\n",
    "* When you call a method on an object (e.g., `my_dog.bark()`), Python automatically passes the object `my_dog` as the first argument to the `self` parameter of the `bark()` method. You don't need to explicitly pass `self` when calling the method.\n",
    "\n",
    "**Example:**"
   ]
  },
  {
   "cell_type": "code",
   "execution_count": 4,
   "metadata": {},
   "outputs": [
    {
     "name": "stdout",
     "output_type": "stream",
     "text": [
      "Hello, my name is R2D2.\n",
      "Hello, my name is C3PO.\n"
     ]
    }
   ],
   "source": [
    "class Robot:\n",
    "    def __init__(self, name):\n",
    "        self.name = name # 'self.name' is an instance attribute\n",
    "\n",
    "    def introduce(self):\n",
    "        # 'self.name' accesses the 'name' attribute of the current object\n",
    "        print(f\"Hello, my name is {self.name}.\")\n",
    "\n",
    "# Create objects\n",
    "robot1 = Robot(\"R2D2\")\n",
    "robot2 = Robot(\"C3PO\")\n",
    "\n",
    "# Call methods\n",
    "robot1.introduce() # Output: Hello, my name is R2D2.\n",
    "robot2.introduce() # Output: Hello, my name is C3PO."
   ]
  },
  {
   "cell_type": "markdown",
   "metadata": {},
   "source": [
    "---\n",
    "\n",
    "## 6. Creating and Using Objects\n",
    "\n",
    "After defining a Class, you can create objects (instances) of that Class.\n",
    "\n",
    "### a. Creating Objects\n",
    "\n",
    "To create an object, you call the Class name like a function, passing any necessary arguments for its `__init__` method.\n",
    "\n",
    "**Syntax:**\n",
    "\n",
    "```python\n",
    "object_name = ClassName(argument_1, argument_2, ...)\n",
    "```\n",
    "\n",
    "**Example:**"
   ]
  },
  {
   "cell_type": "code",
   "execution_count": 5,
   "metadata": {},
   "outputs": [
    {
     "name": "stdout",
     "output_type": "stream",
     "text": [
      "Book 1 created: The Hitchhiker's Guide to the Galaxy\n",
      "Book 2 created: Pride and Prejudice\n"
     ]
    }
   ],
   "source": [
    "class Book:\n",
    "    def __init__(self, title, author, pages):\n",
    "        self.title = title\n",
    "        self.author = author\n",
    "        self.pages = pages\n",
    "\n",
    "    def get_info(self):\n",
    "        return f\"'{self.title}' by {self.author}, {self.pages} pages.\"\n",
    "\n",
    "# Create Book objects\n",
    "book1 = Book(\"The Hitchhiker's Guide to the Galaxy\", \"Douglas Adams\", 193)\n",
    "book2 = Book(\"Pride and Prejudice\", \"Jane Austen\", 279)\n",
    "\n",
    "print(f\"Book 1 created: {book1.title}\")\n",
    "print(f\"Book 2 created: {book2.title}\")"
   ]
  },
  {
   "cell_type": "markdown",
   "metadata": {},
   "source": [
    "### b. Using Objects (Accessing Attributes and Calling Methods)\n",
    "\n",
    "You use the dot `.` operator to access attributes and call methods of an object.\n",
    "\n",
    "**Example:**"
   ]
  },
  {
   "cell_type": "code",
   "execution_count": 6,
   "metadata": {},
   "outputs": [
    {
     "name": "stdout",
     "output_type": "stream",
     "text": [
      "Book 1 title: The Hitchhiker's Guide to the Galaxy\n",
      "Book 2 author: Jane Austen\n",
      "New pages for Book 1: 200\n",
      "Book 1 info: 'The Hitchhiker's Guide to the Galaxy' by Douglas Adams, 200 pages.\n",
      "Book 2 info: 'Pride and Prejudice' by Jane Austen, 279 pages.\n"
     ]
    }
   ],
   "source": [
    "# Accessing attributes\n",
    "print(f\"Book 1 title: {book1.title}\")\n",
    "print(f\"Book 2 author: {book2.author}\")\n",
    "\n",
    "# Modifying attributes (since objects are mutable)\n",
    "book1.pages = 200\n",
    "print(f\"New pages for Book 1: {book1.pages}\")\n",
    "\n",
    "# Calling methods\n",
    "print(f\"Book 1 info: {book1.get_info()}\")\n",
    "print(f\"Book 2 info: {book2.get_info()}\")"
   ]
  },
  {
   "cell_type": "markdown",
   "metadata": {},
   "source": [
    "---\n",
    "\n",
    "**Practice Exercises:**\n",
    "\n",
    "1.  **Define Class and Create Object:**\n",
    "    * Define a Class `Student` with attributes `name` and `student_id`.\n",
    "    * Create an `__init__` method to accept `name` and `student_id`.\n",
    "    * Create two `Student` objects with arbitrary information.\n",
    "    * Print the `name` and `student_id` of both objects.\n",
    "2.  **Add Methods:**\n",
    "    * Add a method `display_info(self)` to the `Student` Class that prints student information in the format: \"Student Name: [name], ID: [student_id]\".\n",
    "    * Call this method for both created objects.\n",
    "3.  **Class Attributes:**\n",
    "    * Add a Class attribute `school_name = \"ABC University\"` to the `Student` Class.\n",
    "    * Print `school_name` from both objects and from the `Student` Class itself.\n",
    "4.  **Methods with Logic:**\n",
    "    * Add a `grades` attribute (an empty List) to the `__init__` method of `Student`.\n",
    "    * Add a method `add_grade(self, grade)` to add a grade to the `grades` List.\n",
    "    * Add a method `get_average_grade(self)` to calculate and return the student's average grade.\n",
    "    * Add a few grades for one student and print their average grade."
   ]
  }
 ],
 "metadata": {
  "kernelspec": {
   "display_name": "venv",
   "language": "python",
   "name": "python3"
  },
  "language_info": {
   "codemirror_mode": {
    "name": "ipython",
    "version": 3
   },
   "file_extension": ".py",
   "mimetype": "text/x-python",
   "name": "python",
   "nbconvert_exporter": "python",
   "pygments_lexer": "ipython3",
   "version": "3.12.7"
  }
 },
 "nbformat": 4,
 "nbformat_minor": 5
}
