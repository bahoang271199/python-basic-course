{
 "cells": [
  {
   "cell_type": "markdown",
   "metadata": {},
   "source": [
    "# Lesson 1.1: Introduction to Python\n",
    "\n",
    "Welcome to the \"Introduction to Python Programming\" course! In this first lesson, we will explore an overview of the Python programming language, its history, design philosophy, reasons for its popularity, and key features.\n",
    "\n",
    "---\n",
    "\n",
    "## 1. History and Philosophy of Python\n",
    "\n",
    "Python was created by Guido van Rossum in the late 1980s and first released in 1991. The name \"Python\" was inspired by the comedy show \"Monty Python's Flying Circus,\" reflecting the language's lighthearted and accessible nature.\n",
    "\n",
    "**Python's design philosophy** is summarized in the \"Zen of Python\" (PEP 20), a set of guiding principles for writing Python code. You can view the Zen of Python by running the following command in the Python interpreter:"
   ]
  },
  {
   "cell_type": "code",
   "execution_count": 1,
   "metadata": {},
   "outputs": [
    {
     "name": "stdout",
     "output_type": "stream",
     "text": [
      "The Zen of Python, by Tim Peters\n",
      "\n",
      "Beautiful is better than ugly.\n",
      "Explicit is better than implicit.\n",
      "Simple is better than complex.\n",
      "Complex is better than complicated.\n",
      "Flat is better than nested.\n",
      "Sparse is better than dense.\n",
      "Readability counts.\n",
      "Special cases aren't special enough to break the rules.\n",
      "Although practicality beats purity.\n",
      "Errors should never pass silently.\n",
      "Unless explicitly silenced.\n",
      "In the face of ambiguity, refuse the temptation to guess.\n",
      "There should be one-- and preferably only one --obvious way to do it.\n",
      "Although that way may not be obvious at first unless you're Dutch.\n",
      "Now is better than never.\n",
      "Although never is often better than *right* now.\n",
      "If the implementation is hard to explain, it's a bad idea.\n",
      "If the implementation is easy to explain, it may be a good idea.\n",
      "Namespaces are one honking great idea -- let's do more of those!\n"
     ]
    }
   ],
   "source": [
    "import this"
   ]
  },
  {
   "cell_type": "markdown",
   "metadata": {},
   "source": [
    "**Some core principles from the Zen of Python include:**\n",
    "* **Beautiful is better than ugly.**\n",
    "* **Explicit is better than implicit.**\n",
    "* **Simple is better than complex.**\n",
    "* **Readability counts.**\n",
    "\n",
    "This philosophy has shaped Python into a language that is easy to learn, read, and maintain.\n",
    "\n",
    "---\n",
    "\n",
    "## 2. Why Learn Python?\n",
    "\n",
    "Python has become one of the most popular programming languages in the world, and there are many reasons to learn it:\n",
    "\n",
    "* **Easy to Learn and Use:** Python's syntax is close to natural language, making it easy for beginners to pick up.\n",
    "* **Versatile and Widely Applicable:**\n",
    "    * **Web Development:** With powerful frameworks like Django, Flask, FastAPI.\n",
    "    * **Data Science:** Libraries like Pandas, NumPy, Matplotlib, Scikit-learn are industry standards.\n",
    "    * **Artificial Intelligence (AI) and Machine Learning (ML):** TensorFlow, PyTorch are leading libraries built on Python.\n",
    "    * **Automation and Scripting:** Python is widely used for writing scripts to automate tasks and system administration.\n",
    "    * **Game Development:** Pygame.\n",
    "    * **Finance, Scientific Research, Education, etc.**\n",
    "* **Large and Supportive Community:** There is an abundance of documentation, forums, and libraries developed by the community.\n",
    "* **Rich Library Ecosystem:** Python has a massive ecosystem of libraries, helping you solve almost any problem without writing code from scratch.\n",
    "\n",
    "---\n",
    "\n",
    "## 3. Key Features of Python\n",
    "\n",
    "Python possesses many features that make it a preferred choice for various projects:\n",
    "\n",
    "* **Interpreted Language:** Python source code is executed directly by the interpreter without the need for prior compilation into machine code. This speeds up the development process.\n",
    "* **Cross-Platform Language:** Python code can run on various operating systems such as Windows, macOS, and Linux without modification.\n",
    "* **Open Source Language:** Python is open source and free, allowing everyone to freely use, modify, and distribute it.\n",
    "* **Dynamically Typed:** You don't need to declare data types for variables. Python automatically determines the data type during runtime."
   ]
  },
  {
   "cell_type": "code",
   "execution_count": 2,
   "metadata": {},
   "outputs": [
    {
     "name": "stdout",
     "output_type": "stream",
     "text": [
      "<class 'int'>\n",
      "<class 'str'>\n"
     ]
    }
   ],
   "source": [
    "# Example of dynamic typing\n",
    "x = 10          # x is an integer\n",
    "print(type(x))\n",
    "x = \"Hello\"     # x is now a string\n",
    "print(type(x))"
   ]
  },
  {
   "cell_type": "markdown",
   "metadata": {},
   "source": [
    "* **Object-Oriented Programming (OOP):** Python fully supports OOP concepts such as classes, objects, inheritance, and polymorphism."
   ]
  },
  {
   "cell_type": "code",
   "execution_count": 3,
   "metadata": {},
   "outputs": [
    {
     "name": "stdout",
     "output_type": "stream",
     "text": [
      "Arthas is attacking!\n"
     ]
    }
   ],
   "source": [
    "# Basic OOP example\n",
    "class Warrior:\n",
    "    def __init__(self, name):\n",
    "        self.name = name\n",
    "\n",
    "    def attack(self):\n",
    "        print(f\"{self.name} is attacking!\")\n",
    "\n",
    "warrior_1 = Warrior(\"Arthas\")\n",
    "warrior_1.attack()"
   ]
  },
  {
   "cell_type": "markdown",
   "metadata": {},
   "source": [
    "* **Support for Multiple Programming Paradigms:** In addition to OOP, Python also supports procedural and functional programming.\n",
    "* **Clear and Readable Syntax:** The use of indentation instead of curly braces makes Python code very easy to read and understand."
   ]
  },
  {
   "cell_type": "code",
   "execution_count": 4,
   "metadata": {},
   "outputs": [
    {
     "name": "stdout",
     "output_type": "stream",
     "text": [
      "5 is greater than 2\n"
     ]
    }
   ],
   "source": [
    "# Example of readable syntax\n",
    "if 5 > 2:\n",
    "    print(\"5 is greater than 2\")\n",
    "else:\n",
    "    print(\"5 is not greater than 2\")"
   ]
  },
  {
   "cell_type": "markdown",
   "metadata": {},
   "source": [
    "---\n",
    "\n",
    "## 4. Comparing Python with Other Programming Languages (Overview)\n",
    "\n",
    "Each programming language has its own advantages and disadvantages, suitable for different purposes. Here's a general comparison:\n",
    "\n",
    "* **Python vs. Java:**\n",
    "\n",
    "    * **Python:** Easier to learn, faster development speed, concise syntax. Suitable for Data Science, AI, scripting.\n",
    "\n",
    "    * **Java:** Higher performance in large applications, strong in enterprise systems, Android applications. Stricter syntax, requires compilation.\n",
    "\n",
    "* **Python vs. C++:**\n",
    "\n",
    "    * **Python:** Easy to learn, quick to develop, versatile.\n",
    "\n",
    "    * **C++:** Extremely high performance, good hardware control, more complex. Suitable for game engines, operating systems, embedded systems.\n",
    "\n",
    "* **Python vs. JavaScript:**\n",
    "\n",
    "    * **Python:** Strong in backend, Data Science, AI.\n",
    "\n",
    "    * **JavaScript:** Primary language for frontend web development, can be used for backend (Node.js). C-like syntax.\n",
    "\n",
    "* **Python vs. R:**\n",
    "\n",
    "    * **Python:** General-purpose language, strong in both software development and Data Science.\n",
    "\n",
    "    * **R:** More specialized for statistics and data analysis, with many in-depth statistical packages.\n",
    "\n",
    "Python is often chosen for its balance of development speed, code readability, and vast library ecosystem, making it a powerful tool for many fields.\n",
    "\n",
    "---\n",
    "\n",
    "**Practice Exercises:**\n",
    "\n",
    "* Open Jupyter Notebook and create a new file.\n",
    "\n",
    "* Type and run the code `import this` to read the \"Zen of Python.\"\n",
    "\n",
    "* Write a simple Python program that prints your name.\n",
    "\n",
    "* Try changing the data type of a variable as shown in the example above and observe the result.\n",
    "\n",
    "Congratulations on completing your first lesson!"
   ]
  }
 ],
 "metadata": {
  "kernelspec": {
   "display_name": "venv",
   "language": "python",
   "name": "python3"
  },
  "language_info": {
   "codemirror_mode": {
    "name": "ipython",
    "version": 3
   },
   "file_extension": ".py",
   "mimetype": "text/x-python",
   "name": "python",
   "nbconvert_exporter": "python",
   "pygments_lexer": "ipython3",
   "version": "3.12.7"
  }
 },
 "nbformat": 4,
 "nbformat_minor": 5
}
