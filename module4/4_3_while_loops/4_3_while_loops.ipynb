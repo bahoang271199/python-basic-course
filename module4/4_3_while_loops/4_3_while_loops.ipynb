{
 "cells": [
  {
   "cell_type": "markdown",
   "metadata": {},
   "source": [
    "# Lesson 4.3: While Loops\n",
    "\n",
    "In this lesson, we will learn about the **`while`** loop in Python. A `while` loop is used to repeatedly execute a block of code as long as a certain condition remains true. This is a powerful tool when you don't know the exact number of iterations beforehand.\n",
    "\n",
    "---\n",
    "\n",
    "## 1. The Structure of a `while` Loop\n",
    "\n",
    "A `while` loop continues to execute the code block within it as long as the test condition is `True`.\n",
    "\n",
    "**Syntax:**\n",
    "\n",
    "```python\n",
    "while condition:\n",
    "    # This block of code will be executed repeatedly\n",
    "    # as long as the condition remains True\n",
    "    # Ensure there is a mechanism to change the condition\n",
    "    # so the loop can eventually terminate\n",
    "```\n",
    "\n",
    "* `condition`: A Boolean expression. The loop will continue to run as long as this expression evaluates to `True`.\n",
    "* The code block below `while` must be indented.\n",
    "\n",
    "**Example:**"
   ]
  },
  {
   "cell_type": "code",
   "execution_count": 1,
   "metadata": {},
   "outputs": [
    {
     "name": "stdout",
     "output_type": "stream",
     "text": [
      "Count is: 0\n",
      "Count is: 1\n",
      "Count is: 2\n",
      "Count is: 3\n",
      "Count is: 4\n",
      "Loop finished.\n"
     ]
    }
   ],
   "source": [
    "count = 0\n",
    "while count < 5:\n",
    "    print(f\"Count is: {count}\")\n",
    "    count += 1 # Increment count so the loop can terminate\n",
    "\n",
    "print(\"Loop finished.\")"
   ]
  },
  {
   "cell_type": "markdown",
   "metadata": {},
   "source": [
    "In this example, the loop will run 5 times (when `count` is 0, 1, 2, 3, 4). When `count` becomes 5, the condition `count < 5` becomes `False`, and the loop will stop.\n",
    "\n",
    "---\n",
    "\n",
    "## 2. Infinite Loops and How to Escape Them\n",
    "\n",
    "An **infinite loop** occurs when the condition of a `while` loop always remains `True`, causing the loop to never terminate. This is usually a bug and can cause your program to hang.\n",
    "\n",
    "**Example of an infinite loop (DO NOT RUN IN PRACTICE):**\n",
    "```python\n",
    "# while True:\n",
    "#     print(\"Infinite loop!\")\n",
    "#     # There's nothing changing the condition to make it False\n",
    "```\n",
    "\n",
    "**How to escape an infinite loop:**\n",
    "* **In Jupyter Notebook:** You can click the stop button (square icon) on the toolbar or select \"Kernel\" -> \"Interrupt\" from the menu.\n",
    "* **In Terminal/Command Prompt:** Press `Ctrl + C`.\n",
    "\n",
    "To avoid infinite loops, always ensure that there is some mechanism inside the loop to change the condition to `False` or use the `break` statement to exit.\n",
    "\n",
    "---\n",
    "\n",
    "## 3. `break` and `continue` Statements in `while` Loops\n",
    "\n",
    "Similar to `for` loops, you can use `break` and `continue` in `while` loops to control the flow.\n",
    "\n",
    "### a. `break`\n",
    "\n",
    "The `break` statement is used to exit the current `while` loop immediately.\n",
    "\n",
    "**Example:**"
   ]
  },
  {
   "cell_type": "code",
   "execution_count": null,
   "metadata": {},
   "outputs": [],
   "source": [
    "secret_number = 7\n",
    "guess = 0\n",
    "\n",
    "print(\"Guess the number from 1 to 10:\")\n",
    "while True: # Theoretically infinite loop, but will exit with break\n",
    "    guess = int(input(\"Enter your guess: \")) # input() will be covered in detail later\n",
    "\n",
    "    if guess == secret_number:\n",
    "        print(\"Congratulations! You guessed correctly!\")\n",
    "        break # Exit the loop\n",
    "    else:\n",
    "        print(\"Wrong, try again.\")\n",
    "\n",
    "print(\"Game over.\")"
   ]
  },
  {
   "cell_type": "markdown",
   "metadata": {},
   "source": [
    "### b. `continue`\n",
    "\n",
    "The `continue` statement is used to skip the rest of the current iteration and move to the next iteration of the `while` loop.\n",
    "\n",
    "**Example:**"
   ]
  },
  {
   "cell_type": "code",
   "execution_count": 3,
   "metadata": {},
   "outputs": [
    {
     "name": "stdout",
     "output_type": "stream",
     "text": [
      "Even number: 2\n",
      "Even number: 4\n",
      "Even number: 6\n",
      "Even number: 8\n",
      "Even number: 10\n"
     ]
    }
   ],
   "source": [
    "num = 0\n",
    "while num < 10:\n",
    "    num += 1 # Increment num first to avoid infinite loop if continue condition is met immediately\n",
    "    if num % 2 != 0: # If num is odd\n",
    "        continue     # Skip the rest of this iteration\n",
    "    print(f\"Even number: {num}\") # Only prints even numbers"
   ]
  },
  {
   "cell_type": "markdown",
   "metadata": {},
   "source": [
    "In this example, when `num` is odd, `continue` will be triggered, skipping the `print()` statement and immediately moving to the next iteration.\n",
    "\n",
    "---\n",
    "\n",
    "## 4. The `while-else` Loop\n",
    "\n",
    "A `while` loop can also have an optional `else` block, similar to the `for` loop. This `else` block will be executed **only if** the `while` loop terminates naturally (i.e., its condition becomes `False`), without being interrupted by a `break` statement.\n",
    "\n",
    "**Syntax:**\n",
    "\n",
    "```python\n",
    "while condition:\n",
    "    # Loop body\n",
    "    # if another_condition:\n",
    "    #     break # If break is called, the else block will NOT be executed\n",
    "else:\n",
    "    # This code block executes if the loop completes without a break\n",
    "```\n",
    "\n",
    "**Example 1: Loop completes naturally (else is executed)**"
   ]
  },
  {
   "cell_type": "code",
   "execution_count": null,
   "metadata": {},
   "outputs": [],
   "source": [
    "counter = 0\n",
    "while counter < 3:\n",
    "    print(f\"Loop is running, counter = {counter}\")\n",
    "    counter += 1\n",
    "else:\n",
    "    print(\"Loop completed without interruption.\")"
   ]
  },
  {
   "cell_type": "markdown",
   "metadata": {},
   "source": [
    "In this example, `counter` increments to 3, the condition `counter < 3` becomes `False`, the loop terminates naturally, and the `else` block is printed.\n",
    "\n",
    "**Example 2: Loop is interrupted by `break` (else is not executed)**"
   ]
  },
  {
   "cell_type": "code",
   "execution_count": null,
   "metadata": {},
   "outputs": [],
   "source": [
    "i = 0\n",
    "while i < 5:\n",
    "    print(f\"i = {i}\")\n",
    "    if i == 2:\n",
    "        print(\"Breaking loop at i = 2\")\n",
    "        break # Exit the loop\n",
    "    i += 1\n",
    "else:\n",
    "    print(\"Else block executed.\") # This block will NOT be printed"
   ]
  },
  {
   "cell_type": "markdown",
   "metadata": {},
   "source": [
    "Here, when `i` is 2, the `break` statement is called, the loop stops abruptly, and the `else` block is skipped.\n",
    "\n",
    "---\n",
    "\n",
    "**Practice Exercises:**\n",
    "\n",
    "1.  Write a program using a `while` loop to print numbers from 1 to 5.\n",
    "2.  Write a program that asks the user to enter a number. The loop should continue asking until the user enters `0`. Then print \"You entered 0. Program ends.\"\n",
    "3.  Use a `while` loop and the `break` statement to find the first number divisible by 7 in the range from 100 to 200. Print that number.\n",
    "4.  Use a `while` loop and the `continue` statement to print all numbers from 1 to 10, EXCEPT the number 5.\n",
    "5.  Write a program using a `while-else` loop to count down from 5 to 1. When the countdown is complete, print \"Countdown finished!\".\n",
    "6.  Modify exercise 5: add an `if` condition inside the loop so that if the current number being counted is 3, print \"Found number 3, stopping countdown!\" and exit the loop using `break`. Observe whether the `else` block is executed."
   ]
  }
 ],
 "metadata": {
  "kernelspec": {
   "display_name": "venv",
   "language": "python",
   "name": "python3"
  },
  "language_info": {
   "codemirror_mode": {
    "name": "ipython",
    "version": 3
   },
   "file_extension": ".py",
   "mimetype": "text/x-python",
   "name": "python",
   "nbconvert_exporter": "python",
   "pygments_lexer": "ipython3",
   "version": "3.12.7"
  }
 },
 "nbformat": 4,
 "nbformat_minor": 5
}
