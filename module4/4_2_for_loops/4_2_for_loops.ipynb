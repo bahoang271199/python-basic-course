{
 "cells": [
  {
   "cell_type": "markdown",
   "metadata": {},
   "source": [
    "# Lesson 4.2: For Loops\n",
    "\n",
    "In programming, repeating a block of code multiple times is a very common task. The `for` loop in Python is used to iterate over the elements of a sequence (like a List, Tuple, String) or other iterable objects. This lesson will help you master how to use `for` loops effectively.\n",
    "\n",
    "---\n",
    "\n",
    "## 1. The `for` loop with `range()`\n",
    "\n",
    "The `range()` function is a built-in Python function that generates a sequence of numbers. It is often used with `for` loops to iterate a specific number of times.\n",
    "\n",
    "**Syntax of `range()`:**\n",
    "* `range(stop)`: Generates a sequence of numbers from `0` up to `stop-1`.\n",
    "* `range(start, stop)`: Generates a sequence of numbers from `start` up to `stop-1`.\n",
    "* `range(start, stop, step)`: Generates a sequence of numbers from `start` up to `stop-1`, with a step size of `step`.\n",
    "\n",
    "**Examples:**"
   ]
  },
  {
   "cell_type": "code",
   "execution_count": 1,
   "metadata": {},
   "outputs": [
    {
     "name": "stdout",
     "output_type": "stream",
     "text": [
      "Example with range(5):\n",
      "0\n",
      "1\n",
      "2\n",
      "3\n",
      "4\n",
      "\n",
      "Example with range(2, 6):\n",
      "2\n",
      "3\n",
      "4\n",
      "5\n",
      "\n",
      "Example with range(1, 11, 2):\n",
      "1\n",
      "3\n",
      "5\n",
      "7\n",
      "9\n"
     ]
    }
   ],
   "source": [
    "# Loop 5 times (from 0 to 4)\n",
    "print(\"Example with range(5):\")\n",
    "for i in range(5):\n",
    "    print(i)\n",
    "\n",
    "# Loop from 2 to 5 (exclusive of 6)\n",
    "print(\"\\nExample with range(2, 6):\")\n",
    "for i in range(2, 6):\n",
    "    print(i)\n",
    "\n",
    "# Loop from 1 to 10 with a step of 2\n",
    "print(\"\\nExample with range(1, 11, 2):\")\n",
    "for i in range(1, 11, 2):\n",
    "    print(i)"
   ]
  },
  {
   "cell_type": "markdown",
   "metadata": {},
   "source": [
    "---\n",
    "\n",
    "## 2. The `for` loop iterating through data types\n",
    "\n",
    "The `for` loop can iterate over elements of various data types in Python.\n",
    "\n",
    "### a. Iterating through a List\n",
    "\n",
    "```python\n",
    "fruits = [\"apple\", \"banana\", \"cherry\"]\n",
    "print(\"Iterating through a List:\")\n",
    "for fruit in fruits:\n",
    "    print(fruit)\n",
    "\n",
    "# Iterating through a List with index (using enumerate())\n",
    "print(\"\\nIterating through a List with index:\")\n",
    "for index, fruit in enumerate(fruits):\n",
    "    print(f\"Index {index}: {fruit}\")\n",
    "```\n",
    "\n",
    "### b. Iterating through a Tuple\n",
    "\n",
    "```python\n",
    "coordinates = (10, 20, 30)\n",
    "print(\"\\nIterating through a Tuple:\")\n",
    "for coord in coordinates:\n",
    "    print(coord)\n",
    "```\n",
    "\n",
    "### c. Iterating through a String\n",
    "\n",
    "```python\n",
    "word = \"Python\"\n",
    "print(\"\\nIterating through a String:\")\n",
    "for char in word:\n",
    "    print(char)\n",
    "```\n",
    "\n",
    "### d. Iterating through a Dictionary\n",
    "\n",
    "When iterating through a Dictionary with a `for` loop, it defaults to iterating over the keys.\n",
    "\n",
    "```python\n",
    "person = {\"name\": \"Alice\", \"age\": 30, \"city\": \"New York\"}\n",
    "print(\"\\nIterating through a Dictionary (default keys):\")\n",
    "for key in person:\n",
    "    print(key)\n",
    "\n",
    "# Iterating through values\n",
    "print(\"\\nIterating through a Dictionary (values):\")\n",
    "for value in person.values():\n",
    "    print(value)\n",
    "\n",
    "# Iterating through both keys and values (recommended)\n",
    "print(\"\\nIterating through a Dictionary (keys and values):\")\n",
    "for key, value in person.items():\n",
    "    print(f\"{key}: {value}\")\n",
    "```\n",
    "\n",
    "### e. Iterating through a Set\n",
    "\n",
    "```python\n",
    "unique_numbers = {1, 5, 2, 8}\n",
    "print(\"\\nIterating through a Set:\")\n",
    "for num in unique_numbers:\n",
    "    print(num)\n",
    "```\n",
    "**Note:** Since Sets are unordered, the order of elements when iterating may not be the same as the order you defined them.\n",
    "\n",
    "---\n",
    "\n",
    "## 3. `break` and `continue` Statements\n",
    "\n",
    "These two statements allow you to control the flow of a loop.\n",
    "\n",
    "### a. `break`\n",
    "\n",
    "The `break` statement is used to exit the current loop immediately, even if the loop condition is still `True` or there are still elements to iterate over.\n",
    "\n",
    "**Example:**"
   ]
  },
  {
   "cell_type": "code",
   "execution_count": 2,
   "metadata": {},
   "outputs": [
    {
     "name": "stdout",
     "output_type": "stream",
     "text": [
      "Example with break:\n",
      "0\n",
      "1\n",
      "2\n",
      "3\n",
      "4\n"
     ]
    }
   ],
   "source": [
    "print(\"Example with break:\")\n",
    "for i in range(10):\n",
    "    if i == 5:\n",
    "        break # Exit the loop when i is 5\n",
    "    print(i) # Only prints numbers from 0 to 4"
   ]
  },
  {
   "cell_type": "markdown",
   "metadata": {},
   "source": [
    "### b. `continue`\n",
    "\n",
    "The `continue` statement is used to skip the rest of the current iteration of the loop and move to the next iteration.\n",
    "\n",
    "**Example:**"
   ]
  },
  {
   "cell_type": "code",
   "execution_count": 3,
   "metadata": {},
   "outputs": [
    {
     "name": "stdout",
     "output_type": "stream",
     "text": [
      "\n",
      "Example with continue:\n",
      "1\n",
      "3\n",
      "5\n",
      "7\n",
      "9\n"
     ]
    }
   ],
   "source": [
    "print(\"\\nExample with continue:\")\n",
    "for i in range(10):\n",
    "    if i % 2 == 0: # If i is an even number\n",
    "        continue   # Skip the rest of this iteration, move to the next\n",
    "    print(i) # Only prints odd numbers"
   ]
  },
  {
   "cell_type": "markdown",
   "metadata": {},
   "source": [
    "---\n",
    "\n",
    "## 4. The `for-else` Loop\n",
    "\n",
    "The `for` loop in Python can have an optional `else` block. This `else` block will be executed **only if** the loop completes without encountering a `break` statement.\n",
    "\n",
    "**Syntax:**\n",
    "\n",
    "```python\n",
    "for item in iterable:\n",
    "    # Do something\n",
    "    # if condition:\n",
    "    #     break # If break is called, the else block will NOT be executed\n",
    "else:\n",
    "    # This code block executes if the loop completes without a break\n",
    "```\n",
    "\n",
    "**Example 1: Loop completes (else is executed)**"
   ]
  },
  {
   "cell_type": "code",
   "execution_count": 4,
   "metadata": {},
   "outputs": [
    {
     "name": "stdout",
     "output_type": "stream",
     "text": [
      "Example of for-else (completes):\n",
      "1\n",
      "2\n",
      "3\n",
      "4\n",
      "5\n",
      "All numbers have been processed.\n"
     ]
    }
   ],
   "source": [
    "print(\"Example of for-else (completes):\")\n",
    "numbers = [1, 2, 3, 4, 5]\n",
    "for num in numbers:\n",
    "    print(num)\n",
    "else:\n",
    "    print(\"All numbers have been processed.\")"
   ]
  },
  {
   "cell_type": "markdown",
   "metadata": {},
   "source": [
    "**Example 2: Loop is broken (else is not executed)**"
   ]
  },
  {
   "cell_type": "code",
   "execution_count": 5,
   "metadata": {},
   "outputs": [
    {
     "name": "stdout",
     "output_type": "stream",
     "text": [
      "\n",
      "Example of for-else (broken):\n",
      "Found 30!\n"
     ]
    }
   ],
   "source": [
    "print(\"\\nExample of for-else (broken):\")\n",
    "search_list = [10, 20, 30, 40, 50]\n",
    "target = 30\n",
    "\n",
    "for num in search_list:\n",
    "    if num == target:\n",
    "        print(f\"Found {target}!\")\n",
    "        break # Exit the loop\n",
    "else:\n",
    "    print(f\"{target} not found in the list.\") # This block will not be printed"
   ]
  },
  {
   "cell_type": "markdown",
   "metadata": {},
   "source": [
    "In the example above, because `break` was called, the `else` block will not be executed.\n",
    "\n",
    "---\n",
    "\n",
    "**Practice Exercises:**\n",
    "\n",
    "1.  Use a `for` loop with `range()` to print numbers from 1 to 10.\n",
    "2.  Given a List of names `names = [\"Alice\", \"Bob\", \"Charlie\", \"David\"]`.\n",
    "    * Iterate through this List and print each name.\n",
    "    * Iterate through this List and print the name along with its index (e.g., \"0: Alice\").\n",
    "3.  Given a string `sentence = \"Python is powerful\"`. Iterate through each character of the string and print it.\n",
    "4.  Given a Dictionary `student = {\"name\": \"Emma\", \"age\": 22, \"major\": \"Physics\"}`.\n",
    "    * Iterate through and print all keys.\n",
    "    * Iterate through and print all values.\n",
    "    * Iterate through and print all key-value pairs (e.g., \"name: Emma\").\n",
    "5.  Write a `for` loop from 1 to 10. Use `break` to stop the loop when the number reaches 7.\n",
    "6.  Write a `for` loop from 1 to 10. Use `continue` to skip printing even numbers.\n",
    "7.  Write a program using a `for-else` loop to search for a number `target = 15` in the List `my_numbers = [10, 20, 30, 40]`.\n",
    "    * If found, print \"Number found!\".\n",
    "    * If not found, print \"Number not in list.\"\n",
    "    * Try changing `target` to 20 to see if the `else` block is executed."
   ]
  }
 ],
 "metadata": {
  "kernelspec": {
   "display_name": "venv",
   "language": "python",
   "name": "python3"
  },
  "language_info": {
   "codemirror_mode": {
    "name": "ipython",
    "version": 3
   },
   "file_extension": ".py",
   "mimetype": "text/x-python",
   "name": "python",
   "nbconvert_exporter": "python",
   "pygments_lexer": "ipython3",
   "version": "3.12.7"
  }
 },
 "nbformat": 4,
 "nbformat_minor": 5
}
