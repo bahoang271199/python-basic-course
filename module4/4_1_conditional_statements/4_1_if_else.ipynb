{
 "cells": [
  {
   "cell_type": "markdown",
   "metadata": {},
   "source": [
    "# Lesson 4.1: Conditional Statements (If-Else)\n",
    "\n",
    "In programming, making decisions and performing different actions based on conditions is crucial. This lesson will introduce you to conditional statements in Python, allowing your program to \"think\" and react flexibly to various situations.\n",
    "\n",
    "---\n",
    "\n",
    "## 1. The `if` Statement\n",
    "\n",
    "The `if` statement is used to execute a block of code only if a certain condition is `True`.\n",
    "\n",
    "**Syntax:**\n",
    "\n",
    "```python\n",
    "if condition:\n",
    "    # This block of code will be executed if the condition is True\n",
    "    # Note: Lines in the code block must be indented\n",
    "```\n",
    "\n",
    "* `condition`: A Boolean expression (evaluates to `True` or `False`).\n",
    "* The code block below `if` must be indented (usually 4 spaces) for Python to know it belongs to this `if` statement.\n",
    "\n",
    "**Example:**"
   ]
  },
  {
   "cell_type": "code",
   "execution_count": 1,
   "metadata": {},
   "outputs": [
    {
     "name": "stdout",
     "output_type": "stream",
     "text": [
      "You are old enough to vote.\n"
     ]
    }
   ],
   "source": [
    "age = 20\n",
    "\n",
    "if age >= 18:\n",
    "    print(\"You are old enough to vote.\")"
   ]
  },
  {
   "cell_type": "markdown",
   "metadata": {},
   "source": [
    "---\n",
    "\n",
    "## 2. The `if-else` Statement\n",
    "\n",
    "The `if-else` statement allows you to execute one block of code if the condition is `True`, and another block of code if the condition is `False`.\n",
    "\n",
    "**Syntax:**\n",
    "\n",
    "```python\n",
    "if condition:\n",
    "    # This code block executes if the condition is True\n",
    "else:\n",
    "    # This code block executes if the condition is False\n",
    "```\n",
    "\n",
    "**Example:**"
   ]
  },
  {
   "cell_type": "code",
   "execution_count": 2,
   "metadata": {},
   "outputs": [
    {
     "name": "stdout",
     "output_type": "stream",
     "text": [
      "Pleasant weather.\n"
     ]
    }
   ],
   "source": [
    "temperature = 28\n",
    "\n",
    "if temperature > 30:\n",
    "    print(\"It's hot!\")\n",
    "else:\n",
    "    print(\"Pleasant weather.\")"
   ]
  },
  {
   "cell_type": "markdown",
   "metadata": {},
   "source": [
    "---\n",
    "\n",
    "## 3. The `if-elif-else` Statement\n",
    "\n",
    "When you have more than two conditions to check sequentially, you use the `if-elif-else` chain. Python will check the conditions from top to bottom and execute the code block of the first condition that is `True`. If none of the conditions are `True`, the `else` block (if present) will be executed.\n",
    "\n",
    "**Syntax:**\n",
    "\n",
    "```python\n",
    "if condition_1:\n",
    "    # This code block executes if condition_1 is True\n",
    "elif condition_2:\n",
    "    # This code block executes if condition_1 is False AND condition_2 is True\n",
    "elif condition_3:\n",
    "    # This code block executes if condition_1, condition_2 are False AND condition_3 is True\n",
    "else:\n",
    "    # This code block executes if all the above conditions are False\n",
    "```\n",
    "\n",
    "You can have as many `elif` statements as you need.\n",
    "\n",
    "**Example:**"
   ]
  },
  {
   "cell_type": "code",
   "execution_count": 3,
   "metadata": {},
   "outputs": [
    {
     "name": "stdout",
     "output_type": "stream",
     "text": [
      "Grade B\n"
     ]
    }
   ],
   "source": [
    "score = 85\n",
    "\n",
    "if score >= 90:\n",
    "    print(\"Grade A\")\n",
    "elif score >= 80:\n",
    "    print(\"Grade B\")\n",
    "elif score >= 70:\n",
    "    print(\"Grade C\")\n",
    "else:\n",
    "    print(\"Grade D\")"
   ]
  },
  {
   "cell_type": "markdown",
   "metadata": {},
   "source": [
    "---\n",
    "\n",
    "## 4. Ternary Operator\n",
    "\n",
    "The ternary operator (or conditional expression) provides a concise way to write an `if-else` statement on a single line, typically used to assign a value to a variable based on a condition.\n",
    "\n",
    "**Syntax:**\n",
    "\n",
    "```python\n",
    "value_if_true if condition else value_if_false\n",
    "```\n",
    "\n",
    "**Examples:**"
   ]
  },
  {
   "cell_type": "code",
   "execution_count": 4,
   "metadata": {},
   "outputs": [
    {
     "name": "stdout",
     "output_type": "stream",
     "text": [
      "Status: Minor\n",
      "Welcome!\n"
     ]
    }
   ],
   "source": [
    "age = 17\n",
    "status = \"Adult\" if age >= 18 else \"Minor\"\n",
    "print(f\"Status: {status}\") # Output: Status: Minor\n",
    "\n",
    "# Another example\n",
    "is_logged_in = True\n",
    "message = \"Welcome!\" if is_logged_in else \"Please log in.\"\n",
    "print(message) # Output: Welcome!"
   ]
  },
  {
   "cell_type": "markdown",
   "metadata": {},
   "source": [
    "The ternary operator makes the code more compact for simple `if-else` cases, but for more complex logic, it's better to use traditional `if-elif-else` statements for readability.\n",
    "\n",
    "---\n",
    "\n",
    "**Practice Exercises:**\n",
    "\n",
    "1.  Write a program that checks if a number `num = 7` is even or odd. Print the corresponding result.\n",
    "2.  Create a variable `hour = 14`. Write an `if-elif-else` statement to print:\n",
    "    * \"Good morning!\" if `hour` is less than 12.\n",
    "    * \"Good afternoon!\" if `hour` is between 12 and 17 (inclusive).\n",
    "    * \"Good evening!\" if `hour` is greater than 17.\n",
    "3.  Create a variable `grade = 75`. Use `if-elif-else` to print the academic performance rating:\n",
    "    * \"Excellent\" if `grade` is 90 or above.\n",
    "    * \"Good\" if `grade` is between 80 and less than 90.\n",
    "    * \"Fair\" if `grade` is between 70 and less than 80.\n",
    "    * \"Average\" if `grade` is between 50 and less than 70.\n",
    "    * \"Fail\" if `grade` is less than 50.\n",
    "4.  Use the ternary operator to assign a value to the `can_drive` variable. If `age = 16` is greater than or equal to 18, `can_drive` is `True`, otherwise `False`. Print the value of `can_drive`.\n",
    "5.  Given two numbers `a = 10` and `b = 20`. Use the ternary operator to assign the greater value to the `max_value` variable. Print `max_value`."
   ]
  }
 ],
 "metadata": {
  "kernelspec": {
   "display_name": "venv",
   "language": "python",
   "name": "python3"
  },
  "language_info": {
   "codemirror_mode": {
    "name": "ipython",
    "version": 3
   },
   "file_extension": ".py",
   "mimetype": "text/x-python",
   "name": "python",
   "nbconvert_exporter": "python",
   "pygments_lexer": "ipython3",
   "version": "3.12.7"
  }
 },
 "nbformat": 4,
 "nbformat_minor": 5
}
