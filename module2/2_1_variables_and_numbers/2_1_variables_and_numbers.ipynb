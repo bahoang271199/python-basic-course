{
 "cells": [
  {
   "cell_type": "markdown",
   "metadata": {},
   "source": [
    "# Lesson 2.1: Variables and Number Data Types\n",
    "\n",
    "In this lesson, we will begin to familiarize ourselves with the most fundamental concepts in programming: variables and number data types. These are core components for you to store and manipulate data in Python.\n",
    "\n",
    "---\n",
    "\n",
    "## 1. Concept of Variables and Valid Variable Naming Rules\n",
    "\n",
    "### a. Concept of Variables\n",
    "\n",
    "In programming, a **variable** is a name assigned to a location in computer memory to store data. You can think of a variable as a labeled box, and you can put any value into that box. The value of a variable can change throughout the program's execution.\n",
    "\n",
    "In Python, you don't need to declare the data type of a variable before using it. Python is a dynamically typed language, meaning it automatically infers the data type based on the value you assign to the variable.\n",
    "\n",
    "**Examples:**"
   ]
  },
  {
   "cell_type": "code",
   "execution_count": 1,
   "metadata": {},
   "outputs": [],
   "source": [
    "name = \"Alice\"  # 'name' variable stores a string\n",
    "age = 30      # 'age' variable stores an integer\n",
    "height = 1.75 # 'height' variable stores a floating-point number"
   ]
  },
  {
   "cell_type": "markdown",
   "metadata": {},
   "source": [
    "### b. Valid Variable Naming Rules in Python\n",
    "\n",
    "Using clear and rule-compliant variable names is crucial for readable and maintainable code.\n",
    "\n",
    "**Variable Naming Rules:**\n",
    "* Variable names must start with a letter (a-z, A-Z) or an underscore (`_`).\n",
    "* Remaining characters can be letters, numbers (0-9), or underscores.\n",
    "* Variable names **cannot** contain spaces.\n",
    "* Variable names **cannot** be Python keywords (e.g., `if`, `for`, `while`, `class`, `def`, `print`, etc.).\n",
    "* Variable names are case-sensitive (`myVar` is different from `myvar`).\n",
    "\n",
    "**Naming Conventions (PEP 8 - Python Enhancement Proposal 8):**\n",
    "* Use `snake_case` (all lowercase letters, words separated by underscores) for variable and function names.\n",
    "    * **Good:** `first_name`, `total_amount`\n",
    "    * **Bad:** `firstName`, `TotalAmount`\n",
    "* Constant names should be all uppercase letters with underscores separating words.\n",
    "    * **Example:** `MAX_VALUE`, `PI`\n",
    "\n",
    "**Examples of valid and invalid variable names:**"
   ]
  },
  {
   "cell_type": "code",
   "execution_count": 2,
   "metadata": {},
   "outputs": [],
   "source": [
    "# Valid\n",
    "my_variable = 10\n",
    "_private_var = \"secret\"\n",
    "number_of_students = 25\n",
    "\n",
    "# Invalid (will cause errors)\n",
    "# 1st_name = \"John\"  # Starts with a number\n",
    "# my var = 20      # Contains spaces\n",
    "# if = 30           # Is a Python keyword"
   ]
  },
  {
   "cell_type": "markdown",
   "metadata": {},
   "source": [
    "---\n",
    "\n",
    "## 2. `int` (Integers) and `float` (Floating-Point Numbers) Data Types\n",
    "\n",
    "Python supports various numeric data types, with integers and floating-point numbers being the most common.\n",
    "\n",
    "### a. Integers (`int`)\n",
    "\n",
    "* Represent whole numbers (without a fractional part), including positive, negative, and zero.\n",
    "* In Python 3, the size of integers is not limited by machine memory.\n",
    "\n",
    "**Examples:**"
   ]
  },
  {
   "cell_type": "code",
   "execution_count": 3,
   "metadata": {},
   "outputs": [
    {
     "name": "stdout",
     "output_type": "stream",
     "text": [
      "<class 'int'>\n"
     ]
    }
   ],
   "source": [
    "positive_integer = 100\n",
    "negative_integer = -50\n",
    "zero = 0\n",
    "large_number = 12345678901234567890\n",
    "print(type(positive_integer))"
   ]
  },
  {
   "cell_type": "markdown",
   "metadata": {},
   "source": [
    "### b. Floating-Point Numbers (`float`)\n",
    "\n",
    "* Represent numbers with a fractional part.\n",
    "* Use a dot `.` to separate the integer and fractional parts.\n",
    "* Can use scientific notation (e or E) to represent very large or very small numbers.\n",
    "\n",
    "**Examples:**"
   ]
  },
  {
   "cell_type": "code",
   "execution_count": 4,
   "metadata": {},
   "outputs": [
    {
     "name": "stdout",
     "output_type": "stream",
     "text": [
      "<class 'float'>\n"
     ]
    }
   ],
   "source": [
    "positive_float = 3.14\n",
    "negative_float = -0.5\n",
    "scientific_notation = 6.022e23 # 6.022 * 10^23\n",
    "print(type(positive_float))"
   ]
  },
  {
   "cell_type": "markdown",
   "metadata": {},
   "source": [
    "---\n",
    "\n",
    "## 3. Arithmetic Operations\n",
    "\n",
    "Python provides basic operators to perform arithmetic operations.\n",
    "\n",
    "| Operator | Operation Name     | Example        | Result     |\n",
    "| :------- | :----------------- | :------------- | :--------- |\n",
    "| `+`      | Addition           | `5 + 3`        | `8`        |\n",
    "| `-`      | Subtraction        | `10 - 4`       | `6`        |\n",
    "| `*`      | Multiplication     | `6 * 7`        | `42`       |\n",
    "| `/`      | Division           | `10 / 3`       | `3.333...` (always returns float) |\n",
    "| `//`     | Floor Division     | `10 // 3`      | `3`        |\n",
    "| `%`      | Modulo (Remainder) | `10 % 3`       | `1`        |\n",
    "| `**`     | Exponentiation     | `2 ** 3`       | `8`        |\n",
    "\n",
    "**Examples:**"
   ]
  },
  {
   "cell_type": "code",
   "execution_count": 5,
   "metadata": {},
   "outputs": [
    {
     "name": "stdout",
     "output_type": "stream",
     "text": [
      "a + b = 19\n",
      "a - b = 11\n",
      "a * b = 60\n",
      "a / b = 3.75\n",
      "a // b = 3\n",
      "a % b = 3\n",
      "a ** 2 = 225\n"
     ]
    }
   ],
   "source": [
    "a = 15\n",
    "b = 4\n",
    "\n",
    "print(f\"a + b = {a + b}\")    # Addition\n",
    "print(f\"a - b = {a - b}\")    # Subtraction\n",
    "print(f\"a * b = {a * b}\")    # Multiplication\n",
    "print(f\"a / b = {a / b}\")    # Division (float result)\n",
    "print(f\"a // b = {a // b}\")  # Floor Division\n",
    "print(f\"a % b = {a % b}\")    # Modulo\n",
    "print(f\"a ** 2 = {a ** 2}\")  # Exponentiation"
   ]
  },
  {
   "cell_type": "markdown",
   "metadata": {},
   "source": [
    "**Order of Operations:**\n",
    "Python follows the mathematical order of operations (PEMDAS/BODMAS):\n",
    "1.  Parentheses `()`\n",
    "2.  Exponents `**`\n",
    "3.  Multiplication `*`, Division `/`, Floor Division `//`, Modulo `%` (from left to right)\n",
    "4.  Addition `+`, Subtraction `-` (from left to right)\n",
    "\n",
    "**Examples:**"
   ]
  },
  {
   "cell_type": "code",
   "execution_count": 6,
   "metadata": {},
   "outputs": [
    {
     "name": "stdout",
     "output_type": "stream",
     "text": [
      "20\n",
      "30\n"
     ]
    }
   ],
   "source": [
    "result = 10 + 5 * 2 # Result is 20 (5*2 = 10, then 10+10 = 20)\n",
    "print(result)\n",
    "\n",
    "result_with_parentheses = (10 + 5) * 2 # Result is 30 (10+5 = 15, then 15*2 = 30)\n",
    "print(result_with_parentheses)"
   ]
  },
  {
   "cell_type": "markdown",
   "metadata": {},
   "source": [
    "---\n",
    "\n",
    "## 4. Assignment Operators\n",
    "\n",
    "The assignment operator (`=`) is used to assign a value to a variable. Additionally, Python provides compound assignment operators to shorten code.\n",
    "\n",
    "| Operator | Example        | Equivalent to   |\n",
    "| :------- | :------------- | :-------------- |\n",
    "| `=`      | `x = 10`       | `x = 10`        |\n",
    "| `+=`     | `x += 5`       | `x = x + 5`     |\n",
    "| `-=`     | `x -= 3`       | `x = x - 3`     |\n",
    "| `*=`     | `x *= 2`       | `x = x * 2`     |\n",
    "| `/=`     | `x /= 4`       | `x = x / 4`     |\n",
    "| `//=`    | `x //= 3`      | `x = x // 3`    |\n",
    "| `%=`     | `x %= 2`       | `x = x % 2`     |\n",
    "| `**=`    | `x **= 3`      | `x = x ** 3`    |\n",
    "\n",
    "**Examples:**"
   ]
  },
  {
   "cell_type": "code",
   "execution_count": 7,
   "metadata": {},
   "outputs": [
    {
     "name": "stdout",
     "output_type": "stream",
     "text": [
      "Initial counter: 0\n",
      "After counter += 1: 1\n",
      "After value *= 2: 20\n",
      "After balance -= 25: 75\n"
     ]
    }
   ],
   "source": [
    "counter = 0\n",
    "print(f\"Initial counter: {counter}\") # 0\n",
    "\n",
    "counter += 1 # counter = counter + 1\n",
    "print(f\"After counter += 1: {counter}\") # 1\n",
    "\n",
    "value = 10\n",
    "value *= 2 # value = value * 2\n",
    "print(f\"After value *= 2: {value}\") # 20\n",
    "\n",
    "balance = 100\n",
    "balance -= 25 # balance = balance - 25\n",
    "print(f\"After balance -= 25: {balance}\") # 75"
   ]
  },
  {
   "cell_type": "markdown",
   "metadata": {},
   "source": [
    "---\n",
    "\n",
    "## 5. Type Casting\n",
    "\n",
    "Sometimes, you need to convert a value from one data type to another. Python provides built-in functions to do this.\n",
    "\n",
    "* `int()`: Converts to an integer.\n",
    "* `float()`: Converts to a floating-point number.\n",
    "* `str()`: Converts to a string (will be covered in a later lesson).\n",
    "\n",
    "**Notes:**\n",
    "* When converting `float` to `int`, the fractional part will be truncated (not rounded).\n",
    "* When converting `str` to `int` or `float`, the string must be a valid number.\n",
    "\n",
    "**Examples:**"
   ]
  },
  {
   "cell_type": "code",
   "execution_count": 8,
   "metadata": {},
   "outputs": [
    {
     "name": "stdout",
     "output_type": "stream",
     "text": [
      "int(3.9) = 3\n",
      "float(5) = 5.0\n",
      "int('123') = 123\n",
      "float('45.67') = 45.67\n"
     ]
    }
   ],
   "source": [
    "# Convert from float to int\n",
    "float_num = 3.9\n",
    "int_from_float = int(float_num)\n",
    "print(f\"int({float_num}) = {int_from_float}\") # Output: 3\n",
    "\n",
    "# Convert from int to float\n",
    "int_num = 5\n",
    "float_from_int = float(int_num)\n",
    "print(f\"float({int_num}) = {float_from_int}\") # Output: 5.0\n",
    "\n",
    "# Convert from string to number\n",
    "string_int = \"123\"\n",
    "int_from_string = int(string_int)\n",
    "print(f\"int('{string_int}') = {int_from_string}\") # Output: 123\n",
    "\n",
    "string_float = \"45.67\"\n",
    "float_from_string = float(string_float)\n",
    "print(f\"float('{string_float}') = {float_from_string}\") # Output: 45.67\n",
    "\n",
    "# Example of error during conversion\n",
    "# invalid_string = \"hello\"\n",
    "# error_num = int(invalid_string) # This will raise a ValueError"
   ]
  },
  {
   "cell_type": "markdown",
   "metadata": {},
   "source": [
    "---\n",
    "\n",
    "**Practice Exercises:**\n",
    "\n",
    "1.  Create three variables: `apple_count = 10`, `orange_price = 1.5`, `total_fruits = 25`.\n",
    "    * Print the data type of each variable.\n",
    "    * Check if `apple_count` is of type `int`.\n",
    "2.  Perform the following operations and print the results:\n",
    "    * `17 / 3`\n",
    "    * `17 // 3`\n",
    "    * `17 % 3`\n",
    "    * `4 ** 3`\n",
    "    * `(5 + 2) * 3 - 1`\n",
    "3.  Create a variable `score = 50`.\n",
    "    * Use an assignment operator to increase `score` by 10.\n",
    "    * Use an assignment operator to multiply `score` by 2.\n",
    "    * Print the final value of `score`.\n",
    "4.  Convert `float_num = 7.8` to an integer and print it.\n",
    "5.  Convert `int_num_str = \"42\"` to an integer and print it."
   ]
  }
 ],
 "metadata": {
  "kernelspec": {
   "display_name": "venv",
   "language": "python",
   "name": "python3"
  },
  "language_info": {
   "codemirror_mode": {
    "name": "ipython",
    "version": 3
   },
   "file_extension": ".py",
   "mimetype": "text/x-python",
   "name": "python",
   "nbconvert_exporter": "python",
   "pygments_lexer": "ipython3",
   "version": "3.12.7"
  }
 },
 "nbformat": 4,
 "nbformat_minor": 5
}
