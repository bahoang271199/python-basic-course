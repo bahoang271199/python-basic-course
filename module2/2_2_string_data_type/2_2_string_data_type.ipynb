{
 "cells": [
  {
   "cell_type": "markdown",
   "metadata": {},
   "source": [
    "# Lesson 2.2: String Data Type\n",
    "\n",
    "In this lesson, we will explore the String data type in Python, an incredibly important and widely used data type for working with text. You will learn how to define, manipulate, and format strings effectively.\n",
    "\n",
    "---\n",
    "\n",
    "## 1. Defining Strings: Single, Double, Triple Quotes\n",
    "\n",
    "In Python, a string is a sequence of characters. You can define strings using:\n",
    "\n",
    "### a. Single Quotes (`' '`) or Double Quotes (`\" \"`)\n",
    "\n",
    "Both methods work identically. You should choose one style and be consistent throughout your project.\n",
    "\n",
    "**Examples:**"
   ]
  },
  {
   "cell_type": "code",
   "execution_count": 1,
   "metadata": {},
   "outputs": [
    {
     "name": "stdout",
     "output_type": "stream",
     "text": [
      "This is a string using single quotes.\n",
      "This is a string using double quotes.\n",
      "<class 'str'>\n"
     ]
    }
   ],
   "source": [
    "single_quoted_string = 'This is a string using single quotes.'\n",
    "double_quoted_string = \"This is a string using double quotes.\"\n",
    "\n",
    "print(single_quoted_string)\n",
    "print(double_quoted_string)\n",
    "print(type(single_quoted_string))"
   ]
  },
  {
   "cell_type": "markdown",
   "metadata": {},
   "source": [
    "**Note:** If your string contains quotes (single or double), you can use the other type of quote to enclose the string, or use the escape character `\\`.\n",
    "\n",
    "**Examples:**"
   ]
  },
  {
   "cell_type": "code",
   "execution_count": 2,
   "metadata": {},
   "outputs": [
    {
     "name": "stdout",
     "output_type": "stream",
     "text": [
      "He said: 'Hello!'\n",
      "I like learning \"Python\".\n",
      "She said: 'It's a beautiful day!'\n"
     ]
    }
   ],
   "source": [
    "quote_1 = \"He said: 'Hello!'\"\n",
    "quote_2 = 'I like learning \"Python\".'\n",
    "quote_3 = 'She said: \\'It\\'s a beautiful day!\\'' # Using escape character\n",
    "\n",
    "print(quote_1)\n",
    "print(quote_2)\n",
    "print(quote_3)"
   ]
  },
  {
   "cell_type": "markdown",
   "metadata": {},
   "source": [
    "### b. Triple Quotes (`''' '''` or `\"\"\" \"\"\"`)\n",
    "\n",
    "Triple quotes are used to define multi-line strings or strings that contain both single and double quotes without needing escape characters.\n",
    "\n",
    "**Examples:**"
   ]
  },
  {
   "cell_type": "code",
   "execution_count": 3,
   "metadata": {},
   "outputs": [
    {
     "name": "stdout",
     "output_type": "stream",
     "text": [
      "This is a string\n",
      "that can span across multiple lines.\n",
      "It is very useful for long blocks of text.\n",
      "He said: \"I'm learning 'Python'!\"\n"
     ]
    }
   ],
   "source": [
    "multi_line_string = \"\"\"This is a string\n",
    "that can span across multiple lines.\n",
    "It is very useful for long blocks of text.\"\"\"\n",
    "\n",
    "special_string = '''He said: \"I'm learning 'Python'!\"'''\n",
    "\n",
    "print(multi_line_string)\n",
    "print(special_string)"
   ]
  },
  {
   "cell_type": "markdown",
   "metadata": {},
   "source": [
    "---\n",
    "\n",
    "## 2. String Operations\n",
    "\n",
    "Python allows you to perform several basic operations on strings.\n",
    "\n",
    "### a. Concatenation\n",
    "\n",
    "Use the `+` operator to join two or more strings together.\n",
    "\n",
    "**Examples:**"
   ]
  },
  {
   "cell_type": "code",
   "execution_count": 4,
   "metadata": {},
   "outputs": [
    {
     "name": "stdout",
     "output_type": "stream",
     "text": [
      "Hello, World!\n",
      "I am 30 years old.\n"
     ]
    }
   ],
   "source": [
    "greeting = \"Hello\"\n",
    "name = \"World\"\n",
    "message = greeting + \", \" + name + \"!\"\n",
    "print(message)\n",
    "\n",
    "# Concatenating string with a number variable (requires type conversion)\n",
    "age_num = 30\n",
    "info = \"I am \" + str(age_num) + \" years old.\"\n",
    "print(info)"
   ]
  },
  {
   "cell_type": "markdown",
   "metadata": {},
   "source": [
    "### b. Repetition\n",
    "\n",
    "Use the `*` operator to repeat a string multiple times.\n",
    "\n",
    "**Examples:**"
   ]
  },
  {
   "cell_type": "code",
   "execution_count": 5,
   "metadata": {},
   "outputs": [
    {
     "name": "stdout",
     "output_type": "stream",
     "text": [
      "--------------------\n",
      "HaHaHa!\n"
     ]
    }
   ],
   "source": [
    "character = \"-\"\n",
    "line = character * 20\n",
    "print(line)\n",
    "\n",
    "prefix = \"Ha\"\n",
    "final_word = prefix * 3 + \"!\"\n",
    "print(final_word)"
   ]
  },
  {
   "cell_type": "markdown",
   "metadata": {},
   "source": [
    "---\n",
    "\n",
    "## 3. String Indexing and Slicing\n",
    "\n",
    "Strings in Python are ordered sequences, meaning each character in the string has a specific position (index).\n",
    "\n",
    "### a. Indexing (Accessing characters by position)\n",
    "\n",
    "* Indexes start from `0` for the first character.\n",
    "* Negative indexes start from `-1` for the last character.\n",
    "\n",
    "**Examples:**"
   ]
  },
  {
   "cell_type": "code",
   "execution_count": 6,
   "metadata": {},
   "outputs": [
    {
     "name": "stdout",
     "output_type": "stream",
     "text": [
      "First character: P\n",
      "Third character: t\n",
      "Last character: n\n",
      "Second to last character: o\n"
     ]
    }
   ],
   "source": [
    "my_string = \"Python\"\n",
    "print(f\"First character: {my_string[0]}\")     # Output: P\n",
    "print(f\"Third character: {my_string[2]}\")      # Output: t\n",
    "print(f\"Last character: {my_string[-1]}\")   # Output: n\n",
    "print(f\"Second to last character: {my_string[-2]}\") # Output: o"
   ]
  },
  {
   "cell_type": "markdown",
   "metadata": {},
   "source": [
    "**Note:** Strings are immutable, meaning you cannot change a character at a specific position.\n",
    "\n",
    "```python\n",
    "# my_string[0] = 'J' # This will raise a TypeError\n",
    "```"
   ]
  },
  {
   "cell_type": "markdown",
   "metadata": {},
   "source": [
    "### b. Slicing (Extracting substrings)\n",
    "\n",
    "Slicing allows you to extract a portion (substring) from a string by specifying a start and end point.\n",
    "\n",
    "Syntax: `string[start:end:step]`\n",
    "* `start`: Starting index (inclusive). Default is `0`.\n",
    "* `end`: Ending index (exclusive). Default is the end of the string.\n",
    "* `step`: Step size (default is `1`).\n",
    "\n",
    "**Examples:**"
   ]
  },
  {
   "cell_type": "code",
   "execution_count": 7,
   "metadata": {},
   "outputs": [
    {
     "name": "stdout",
     "output_type": "stream",
     "text": [
      "From index 0 to 5 (exclusive): Hello\n",
      "From index 6 to end: World\n",
      "From beginning to index 5 (exclusive): Hello\n",
      "Entire string: Hello World\n",
      "Reversed string: dlroW olleH\n",
      "Characters at even positions: HloWrd\n"
     ]
    }
   ],
   "source": [
    "long_string = \"Hello World\"\n",
    "\n",
    "print(f\"From index 0 to 5 (exclusive): {long_string[0:5]}\") # Output: Hello\n",
    "print(f\"From index 6 to end: {long_string[6:]}\")             # Output: World\n",
    "print(f\"From beginning to index 5 (exclusive): {long_string[:5]}\") # Output: Hello\n",
    "print(f\"Entire string: {long_string[:]}\")                    # Output: Hello World\n",
    "print(f\"Reversed string: {long_string[::-1]}\")               # Output: dlroW olleH\n",
    "print(f\"Characters at even positions: {long_string[::2]}\")             # Output: HloWrd"
   ]
  },
  {
   "cell_type": "markdown",
   "metadata": {},
   "source": [
    "---\n",
    "\n",
    "## 4. Common String Methods\n",
    "\n",
    "Python provides many built-in methods (functions) to manipulate strings. Here are some commonly used ones:\n",
    "\n",
    "* `len(string)`: Returns the length of the string.\n",
    "    ```python\n",
    "    text = \"Python Programming\"\n",
    "    print(f\"Length of the string: {len(text)}\") # Output: 18\n",
    "    ```\n",
    "* `string.upper()`: Converts all characters to uppercase.\n",
    "    ```python\n",
    "    text = \"Hello Python\"\n",
    "    print(f\"Uppercase: {text.upper()}\") # Output: HELLO PYTHON\n",
    "    ```\n",
    "* `string.lower()`: Converts all characters to lowercase.\n",
    "    ```python\n",
    "    text = \"Hello Python\"\n",
    "    print(f\"Lowercase: {text.lower()}\") # Output: hello python\n",
    "    ```\n",
    "* `string.strip()`: Removes leading and trailing whitespace (or specified characters).\n",
    "    ```python\n",
    "    text = \"   Hello World   \"\n",
    "    print(f\"After strip: '{text.strip()}'\") # Output: 'Hello World'\n",
    "    ```\n",
    "* `string.replace(old, new)`: Replaces all occurrences of `old` substring with `new` substring.\n",
    "    ```python\n",
    "    text = \"I like apples, apples are good.\"\n",
    "    new_text = text.replace(\"apples\", \"bananas\")\n",
    "    print(f\"After replace: {new_text}\") # Output: I like bananas, bananas are good.\n",
    "    ```\n",
    "* `string.split(separator)`: Splits the string into a list of substrings based on the `separator` (default is whitespace).\n",
    "    ```python\n",
    "    sentence = \"Python is a powerful language\"\n",
    "    words = sentence.split(\" \")\n",
    "    print(f\"Split string: {words}\") # Output: ['Python', 'is', 'a', 'powerful', 'language']\n",
    "\n",
    "    data = \"apple,banana,cherry\"\n",
    "    fruits = data.split(\",\")\n",
    "    print(f\"Split string by comma: {fruits}\") # Output: ['apple', 'banana', 'cherry']\n",
    "    ```\n",
    "* `separator.join(iterable)`: Joins the elements of an iterable (e.g., a list) into a single string, using the `separator` as the delimiter.\n",
    "    ```python\n",
    "    words_list = [\"Python\", \"is\", \"awesome\"]\n",
    "    joined_string = \" \".join(words_list)\n",
    "    print(f\"Joined string: {joined_string}\") # Output: Python is awesome\n",
    "\n",
    "    numbers_list = [\"1\", \"2\", \"3\"]\n",
    "    csv_string = \",\".join(numbers_list)\n",
    "    print(f\"Joined CSV string: {csv_string}\") # Output: 1,2,3\n",
    "    ```\n",
    "* `string.startswith(prefix)`: Checks if the string starts with `prefix`.\n",
    "* `string.endswith(suffix)`: Checks if the string ends with `suffix`.\n",
    "* `string.find(sub)`: Returns the lowest index of `sub` if found, or `-1` otherwise.\n",
    "* `string.count(sub)`: Counts the number of occurrences of `sub` in the string.\n",
    "* `string.isdigit()`, `string.isalpha()`, `string.isalnum()`: Checks if the string contains only digits, only alphabetic characters, or only alphanumeric characters, respectively.\n",
    "\n",
    "---\n",
    "\n",
    "## 5. F-strings (Formatted String Literals) for String Formatting\n",
    "\n",
    "F-strings (introduced in Python 3.6) are the most modern and efficient way to format strings in Python. They allow you to embed Python expressions directly inside string literals by prefixing the string with an `f` or `F`.\n",
    "\n",
    "**Syntax:** `f\"This is a formatted string {variable_or_expression}.\"`\n",
    "\n",
    "**Examples:**"
   ]
  },
  {
   "cell_type": "code",
   "execution_count": 8,
   "metadata": {},
   "outputs": [
    {
     "name": "stdout",
     "output_type": "stream",
     "text": [
      "Hello, my name is Alice and I am 30 years old.\n",
      "Total: $59.97\n",
      "Status: Adult\n"
     ]
    }
   ],
   "source": [
    "name = \"Alice\"\n",
    "age = 30\n",
    "city = \"New York\"\n",
    "\n",
    "# Basic formatting\n",
    "message = f\"Hello, my name is {name} and I am {age} years old.\"\n",
    "print(message)\n",
    "\n",
    "# Perform calculations inside f-string\n",
    "price = 19.99\n",
    "quantity = 3\n",
    "total = f\"Total: ${price * quantity:.2f}\" # Format to 2 decimal places\n",
    "print(total)\n",
    "\n",
    "# Use more complex expressions\n",
    "is_adult = True\n",
    "status = f\"Status: {'Adult' if is_adult else 'Minor'}\"\n",
    "print(status)"
   ]
  },
  {
   "cell_type": "markdown",
   "metadata": {},
   "source": [
    "F-strings make code much clearer, more readable, and easier to maintain compared to older string formatting methods (`%` operator or `str.format()`).\n",
    "\n",
    "---\n",
    "\n",
    "**Practice Exercises:**\n",
    "\n",
    "1.  Create a multi-line string containing a favorite poem or song lyric. Print it.\n",
    "2.  Create two variables `first_name = \"John\"` and `last_name = \"Doe\"`. Concatenate them into a `full_name` variable and print it.\n",
    "3.  Create a string `slogan = \"Python is fun! \"` and repeat it 3 times.\n",
    "4.  Given the string `language = \"Programming\"`.\n",
    "    * Print the character at index 3.\n",
    "    * Print the last character.\n",
    "    * Extract the substring from index 4 to 8 (exclusive).\n",
    "    * Extract the substring from the beginning to index 3 (exclusive).\n",
    "    * Reverse the string.\n",
    "5.  Given the string `sentence = \"  Learn Python programming  \"`.\n",
    "    * Print the length of the string.\n",
    "    * Convert the string to uppercase and print it.\n",
    "    * Remove leading/trailing whitespace and print it.\n",
    "    * Replace all occurrences of the word \"Python\" with \"Java\" (if any) and print it.\n",
    "    * Split the string into a list of words and print it.\n",
    "6.  Given the list `words = [\"Hello\", \"World\", \"from\", \"Python\"]`. Join these words into a single string, separated by a hyphen (`-`).\n",
    "7.  Use an f-string to print the following information: \"Product A costs 12.50 USD and there are 50 items in stock. Total value: 625.00 USD.\" (Use variables `product_name`, `price`, `stock` and calculate `total_value` inside the f-string, formatting currency to 2 decimal places)."
   ]
  }
 ],
 "metadata": {
  "kernelspec": {
   "display_name": "venv",
   "language": "python",
   "name": "python3"
  },
  "language_info": {
   "codemirror_mode": {
    "name": "ipython",
    "version": 3
   },
   "file_extension": ".py",
   "mimetype": "text/x-python",
   "name": "python",
   "nbconvert_exporter": "python",
   "pygments_lexer": "ipython3",
   "version": "3.12.7"
  }
 },
 "nbformat": 4,
 "nbformat_minor": 5
}
