{
 "cells": [
  {
   "cell_type": "markdown",
   "metadata": {},
   "source": [
    "# Lesson 2.3: Boolean Data Type and Logical Operators\n",
    "\n",
    "In this lesson, we will learn about the Boolean data type, a fundamental yet extremely important data type in programming, used to represent true/false values. We will also explore comparison operators and logical operators, essential tools for making decisions and controlling program flow.\n",
    "\n",
    "---\n",
    "\n",
    "## 1. Concept of `True` and `False`\n",
    "\n",
    "The **Boolean** (or `bool`) data type has only two unique values:\n",
    "* `True`\n",
    "* `False`\n",
    "\n",
    "These values always start with an uppercase letter. Boolean values are typically the result of comparisons or logical operations.\n",
    "\n",
    "**Examples:**"
   ]
  },
  {
   "cell_type": "code",
   "execution_count": 1,
   "metadata": {},
   "outputs": [
    {
     "name": "stdout",
     "output_type": "stream",
     "text": [
      "True\n",
      "<class 'bool'>\n",
      "False\n",
      "<class 'bool'>\n"
     ]
    }
   ],
   "source": [
    "is_active = True\n",
    "has_permission = False\n",
    "\n",
    "print(is_active)\n",
    "print(type(is_active))\n",
    "\n",
    "print(has_permission)\n",
    "print(type(has_permission))"
   ]
  },
  {
   "cell_type": "markdown",
   "metadata": {},
   "source": [
    "In Python, some values are considered \"falsy\" (equivalent to `False`) and others are \"truthy\" (equivalent to `True`) in a Boolean context:\n",
    "\n",
    "* **Falsy values:**\n",
    "    * `False`\n",
    "    * `None`\n",
    "    * `0` (integer zero)\n",
    "    * `0.0` (float zero)\n",
    "    * `\"\"` (empty string)\n",
    "    * `[]` (empty list)\n",
    "    * `()` (empty tuple)\n",
    "    * `{}` (empty dictionary)\n",
    "    * `set()` (empty set)\n",
    "* **Truthy values:** All other values besides the falsy ones.\n",
    "\n",
    "**Examples:**"
   ]
  },
  {
   "cell_type": "code",
   "execution_count": 2,
   "metadata": {},
   "outputs": [
    {
     "name": "stdout",
     "output_type": "stream",
     "text": [
      "False\n",
      "True\n",
      "False\n",
      "True\n",
      "False\n",
      "True\n",
      "False\n"
     ]
    }
   ],
   "source": [
    "print(bool(0))        # False\n",
    "print(bool(1))        # True\n",
    "print(bool(\"\"))       # False\n",
    "print(bool(\"Hello\"))  # True\n",
    "print(bool([]))       # False\n",
    "print(bool([1, 2]))   # True\n",
    "print(bool(None))     # False"
   ]
  },
  {
   "cell_type": "markdown",
   "metadata": {},
   "source": [
    "---\n",
    "\n",
    "## 2. Comparison Operators\n",
    "\n",
    "Comparison Operators are used to compare two values and return a Boolean value (`True` or `False`).\n",
    "\n",
    "| Operator | Description           | Example        | Result |\n",
    "| :------- | :-------------------- | :------------- | :----- |\n",
    "| `==`     | Equal to              | `5 == 5`       | `True` |\n",
    "| `!=`     | Not equal to          | `5 != 10`      | `True` |\n",
    "| `>`      | Greater than          | `10 > 5`       | `True` |\n",
    "| `<`      | Less than             | `5 < 10`       | `True` |\n",
    "| `>=`     | Greater than or equal to | `10 >= 10`   | `True` |\n",
    "| `<=`     | Less than or equal to | `5 <= 10`      | `True` |\n",
    "\n",
    "**Examples:**"
   ]
  },
  {
   "cell_type": "code",
   "execution_count": 3,
   "metadata": {},
   "outputs": [
    {
     "name": "stdout",
     "output_type": "stream",
     "text": [
      "x == z: True\n",
      "x != y: True\n",
      "x > y: False\n",
      "y < z: False\n",
      "x >= z: True\n",
      "y <= 20: True\n",
      "'apple' == 'Apple': False\n",
      "'banana' > 'apple': True\n"
     ]
    }
   ],
   "source": [
    "x = 10\n",
    "y = 20\n",
    "z = 10\n",
    "\n",
    "print(f\"x == z: {x == z}\")   # True\n",
    "print(f\"x != y: {x != y}\")   # True\n",
    "print(f\"x > y: {x > y}\")     # False\n",
    "print(f\"y < z: {y < z}\")     # False\n",
    "print(f\"x >= z: {x >= z}\")   # True\n",
    "print(f\"y <= 20: {y <= 20}\") # True\n",
    "\n",
    "# String comparison (case-sensitive, lexicographical order)\n",
    "print(f\"'apple' == 'Apple': {'apple' == 'Apple'}\") # False\n",
    "print(f\"'banana' > 'apple': {'banana' > 'apple'}\") # True"
   ]
  },
  {
   "cell_type": "markdown",
   "metadata": {},
   "source": [
    "---\n",
    "\n",
    "## 3. Logical Operators\n",
    "\n",
    "Logical Operators are used to combine or negate Boolean values. Python has three logical operators: `and`, `or`, `not`.\n",
    "\n",
    "### a. `and` Operator\n",
    "\n",
    "Returns `True` if both operands are `True`. If the first operand is `False`, it returns `False` immediately without evaluating the second operand (short-circuit evaluation).\n",
    "\n",
    "| Operand 1 | Operand 2 | Result (Operand 1 `and` Operand 2) |\n",
    "| :---------- | :---------- | :----------------------------------- |\n",
    "| `True`      | `True`      | `True`                               |\n",
    "| `True`      | `False`     | `False`                              |\n",
    "| `False`     | `True`      | `False`                              |\n",
    "| `False`     | `False`     | `False`                              |\n",
    "\n",
    "**Examples:**"
   ]
  },
  {
   "cell_type": "code",
   "execution_count": 4,
   "metadata": {},
   "outputs": [
    {
     "name": "stdout",
     "output_type": "stream",
     "text": [
      "age > 18 and has_license: True\n",
      "age < 20 and has_license: False\n"
     ]
    }
   ],
   "source": [
    "age = 25\n",
    "has_license = True\n",
    "\n",
    "print(f\"age > 18 and has_license: {age > 18 and has_license}\") # True and True -> True\n",
    "print(f\"age < 20 and has_license: {age < 20 and has_license}\") # False and True -> False"
   ]
  },
  {
   "cell_type": "markdown",
   "metadata": {},
   "source": [
    "### b. `or` Operator\n",
    "\n",
    "Returns `True` if at least one of the operands is `True`. If the first operand is `True`, it returns `True` immediately without evaluating the second operand (short-circuit evaluation).\n",
    "\n",
    "| Operand 1 | Operand 2 | Result (Operand 1 `or` Operand 2) |\n",
    "| :---------- | :---------- | :---------------------------------- |\n",
    "| `True`      | `True`      | `True`                              |\n",
    "| `True`      | `False`     | `True`                              |\n",
    "| `False`     | `True`      | `True`                              |\n",
    "| `False`     | `False`     | `False`                             |\n",
    "\n",
    "**Examples:**"
   ]
  },
  {
   "cell_type": "code",
   "execution_count": 5,
   "metadata": {},
   "outputs": [
    {
     "name": "stdout",
     "output_type": "stream",
     "text": [
      "is_student or has_discount: True\n",
      "is_student or False: False\n"
     ]
    }
   ],
   "source": [
    "is_student = False\n",
    "has_discount = True\n",
    "\n",
    "print(f\"is_student or has_discount: {is_student or has_discount}\") # False or True -> True\n",
    "print(f\"is_student or False: {is_student or False}\")             # False or False -> False"
   ]
  },
  {
   "cell_type": "markdown",
   "metadata": {},
   "source": [
    "### c. `not` Operator\n",
    "\n",
    "Reverses the Boolean value of the operand. If the operand is `True`, it returns `False`, and vice versa.\n",
    "\n",
    "| Operand | Result (`not` Operand) |\n",
    "| :-------- | :--------------------- |\n",
    "| `True`    | `False`                |\n",
    "| `False`   | `True`                 |\n",
    "\n",
    "**Examples:**"
   ]
  },
  {
   "cell_type": "code",
   "execution_count": 6,
   "metadata": {},
   "outputs": [
    {
     "name": "stdout",
     "output_type": "stream",
     "text": [
      "not is_logged_in: True\n",
      "not is_admin: False\n"
     ]
    }
   ],
   "source": [
    "is_logged_in = False\n",
    "print(f\"not is_logged_in: {not is_logged_in}\") # not False -> True\n",
    "\n",
    "is_admin = True\n",
    "print(f\"not is_admin: {not is_admin}\")       # not True -> False"
   ]
  },
  {
   "cell_type": "markdown",
   "metadata": {},
   "source": [
    "---\n",
    "\n",
    "## 4. Operator Precedence\n",
    "\n",
    "When multiple operators are present in an expression, Python will execute them according to a specific order of precedence.\n",
    "\n",
    "Order of precedence (from highest to lowest):\n",
    "\n",
    "1.  **Parentheses `()`**: Always have the highest precedence.\n",
    "2.  **`not`**: Logical `not` operator.\n",
    "3.  **Arithmetic Operators**: `**`, `*`, `/`, `//`, `%`, `+`, `-` (as learned in Lesson 2.1).\n",
    "4.  **Comparison Operators**: `==`, `!=`, `>`, `<`, `>=`, `<=` (all have the same precedence).\n",
    "5.  **`and`**: Logical `and` operator.\n",
    "6.  **`or`**: Logical `or` operator.\n",
    "\n",
    "**Examples:**"
   ]
  },
  {
   "cell_type": "code",
   "execution_count": 7,
   "metadata": {},
   "outputs": [
    {
     "name": "stdout",
     "output_type": "stream",
     "text": [
      "Result 1: True\n",
      "Result 2: False\n",
      "Expression result: True\n"
     ]
    }
   ],
   "source": [
    "# Example 1: Combining comparison and logical operators\n",
    "result1 = 5 > 3 and 10 < 20 # (5 > 3) is True, (10 < 20) is True -> True and True -> True\n",
    "print(f\"Result 1: {result1}\")\n",
    "\n",
    "# Example 2: Using not\n",
    "result2 = not (5 == 5) or (10 != 10) # not True or False -> False or False -> False\n",
    "print(f\"Result 2: {result2}\")\n",
    "\n",
    "# Example 3: More complex combination\n",
    "x = 10\n",
    "y = 5\n",
    "z = 15\n",
    "expression = (x > y and z > x) or (y == z)\n",
    "# (10 > 5 and 15 > 10) or (5 == 15)\n",
    "# (True and True) or False\n",
    "# True or False\n",
    "# True\n",
    "print(f\"Expression result: {expression}\")"
   ]
  },
  {
   "cell_type": "markdown",
   "metadata": {},
   "source": [
    "Always use parentheses `()` to clarify the order of precedence or to ensure the expression is evaluated the way you intend, even if you know the default precedence. This makes the code more readable and helps prevent errors.\n",
    "\n",
    "---\n",
    "\n",
    "**Practice Exercises:**\n",
    "\n",
    "1.  Create two Boolean variables: `is_sunny = True` and `is_weekend = False`.\n",
    "    * Print the result of `is_sunny and is_weekend`.\n",
    "    * Print the result of `is_sunny or is_weekend`.\n",
    "    * Print the result of `not is_sunny`.\n",
    "2.  Given variables: `temp = 25`, `is_raining = False`.\n",
    "    * Write an expression that checks if the temperature is greater than 20 AND it's not raining. Print the result.\n",
    "    * Write an expression that checks if the temperature is less than 10 OR the temperature is greater than 30. Print the result.\n",
    "3.  Compare the following pairs of values and print the results:\n",
    "    * `10 == \"10\"`\n",
    "    * `5 != 5.0`\n",
    "    * `'apple' < 'banana'`\n",
    "    * `True == 1`\n",
    "    * `False == 0`\n",
    "4.  Calculate the Boolean value of the following expression and explain each step:\n",
    "    `result = (10 > 5 and not (20 < 15)) or (7 == 7)`"
   ]
  }
 ],
 "metadata": {
  "kernelspec": {
   "display_name": "venv",
   "language": "python",
   "name": "python3"
  },
  "language_info": {
   "codemirror_mode": {
    "name": "ipython",
    "version": 3
   },
   "file_extension": ".py",
   "mimetype": "text/x-python",
   "name": "python",
   "nbconvert_exporter": "python",
   "pygments_lexer": "ipython3",
   "version": "3.12.7"
  }
 },
 "nbformat": 4,
 "nbformat_minor": 5
}
