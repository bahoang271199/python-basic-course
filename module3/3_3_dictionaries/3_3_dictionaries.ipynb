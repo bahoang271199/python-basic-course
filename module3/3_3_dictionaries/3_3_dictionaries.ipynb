{
 "cells": [
  {
   "cell_type": "markdown",
   "metadata": {},
   "source": [
    "# Lesson 3.3: Dictionaries Data Type\n",
    "\n",
    "In this lesson, we will learn about **Dictionaries**, a powerful and flexible collection data type in Python. Dictionaries allow you to store data as **key-value pairs**, providing fast and efficient data retrieval using keys.\n",
    "\n",
    "---\n",
    "\n",
    "## 1. Defining Dictionaries and Their Characteristics\n",
    "\n",
    "A **Dictionary** is an **unordered collection** and **mutable** data type in Python. Key characteristics:\n",
    "* **Unordered:** As of Python 3.7+, Dictionaries maintain insertion order. However, conceptually, you should not rely on this order for older Python versions or when comparing with other ordered data structures.\n",
    "* **Mutable:** You can add, remove, or modify key-value pairs after the Dictionary has been created.\n",
    "* **Key-Value Pairs:** Each element in a Dictionary is a pair consisting of a key and its corresponding value.\n",
    "    * **Key:** Must be unique and an immutable data type (like strings, numbers, or tuples).\n",
    "    * **Value:** Can be of any data type (numbers, strings, lists, other dictionaries, etc.) and can be duplicated.\n",
    "\n",
    "Dictionaries are defined by placing key-value pairs inside curly braces `{}`, with each pair separated by a colon `:`, and pairs separated by commas `,`.\n",
    "\n",
    "**Examples:**"
   ]
  },
  {
   "cell_type": "code",
   "execution_count": 1,
   "metadata": {},
   "outputs": [
    {
     "name": "stdout",
     "output_type": "stream",
     "text": [
      "Person Dictionary: {'name': 'Alice', 'age': 30, 'city': 'New York'}\n",
      "Type of person: <class 'dict'>\n",
      "Student Grades: {'Math': 95, 'Science': 88, 'History': 92.5, 101: 'Introduction to Python'}\n",
      "Empty Dictionary: {}\n"
     ]
    }
   ],
   "source": [
    "# Dictionary containing personal information\n",
    "person = {\n",
    "    \"name\": \"Alice\",\n",
    "    \"age\": 30,\n",
    "    \"city\": \"New York\"\n",
    "}\n",
    "print(f\"Person Dictionary: {person}\")\n",
    "print(f\"Type of person: {type(person)}\")\n",
    "\n",
    "# Dictionary with mixed keys and values\n",
    "student_grades = {\n",
    "    \"Math\": 95,\n",
    "    \"Science\": 88,\n",
    "    \"History\": 92.5,\n",
    "    101: \"Introduction to Python\" # Keys can be numbers\n",
    "}\n",
    "print(f\"Student Grades: {student_grades}\")\n",
    "\n",
    "# Empty dictionary\n",
    "empty_dict = {}\n",
    "print(f\"Empty Dictionary: {empty_dict}\")"
   ]
  },
  {
   "cell_type": "markdown",
   "metadata": {},
   "source": [
    "---\n",
    "\n",
    "## 2. Accessing, Adding, Modifying, Deleting Elements in a Dictionary\n",
    "\n",
    "### a. Accessing Elements\n",
    "\n",
    "You access the value of an element by using its key within square brackets `[]`.\n",
    "\n",
    "**Examples:**"
   ]
  },
  {
   "cell_type": "code",
   "execution_count": 2,
   "metadata": {},
   "outputs": [
    {
     "name": "stdout",
     "output_type": "stream",
     "text": [
      "Name: Alice\n",
      "Age: 30\n"
     ]
    }
   ],
   "source": [
    "person = {\n",
    "    \"name\": \"Alice\",\n",
    "    \"age\": 30,\n",
    "    \"city\": \"New York\"\n",
    "}\n",
    "\n",
    "print(f\"Name: {person['name']}\") # Output: Alice\n",
    "print(f\"Age: {person['age']}\")   # Output: 30\n",
    "\n",
    "# If the key does not exist, it will raise a KeyError\n",
    "# print(person['country']) # This would cause an error"
   ]
  },
  {
   "cell_type": "markdown",
   "metadata": {},
   "source": [
    "### b. Adding Elements\n",
    "\n",
    "To add a new key-value pair, you simply assign a value to a new key.\n",
    "\n",
    "**Examples:**"
   ]
  },
  {
   "cell_type": "code",
   "execution_count": 3,
   "metadata": {},
   "outputs": [
    {
     "name": "stdout",
     "output_type": "stream",
     "text": [
      "After adding email: {'name': 'Alice', 'age': 30, 'city': 'New York', 'email': 'alice@example.com'}\n",
      "After adding occupation: {'name': 'Alice', 'age': 30, 'city': 'New York', 'email': 'alice@example.com', 'occupation': 'Software Engineer'}\n"
     ]
    }
   ],
   "source": [
    "person = {\n",
    "    \"name\": \"Alice\",\n",
    "    \"age\": 30,\n",
    "    \"city\": \"New York\"\n",
    "}\n",
    "\n",
    "person[\"email\"] = \"alice@example.com\" # Add 'email' key\n",
    "print(f\"After adding email: {person}\")\n",
    "\n",
    "person[\"occupation\"] = \"Software Engineer\" # Add 'occupation' key\n",
    "print(f\"After adding occupation: {person}\")"
   ]
  },
  {
   "cell_type": "markdown",
   "metadata": {},
   "source": [
    "### c. Modifying Elements\n",
    "\n",
    "To modify the value of an existing key, you simply assign a new value to that key.\n",
    "\n",
    "**Examples:**"
   ]
  },
  {
   "cell_type": "code",
   "execution_count": 4,
   "metadata": {},
   "outputs": [
    {
     "name": "stdout",
     "output_type": "stream",
     "text": [
      "After modifying age: {'name': 'Alice', 'age': 31, 'city': 'New York'}\n",
      "After modifying city: {'name': 'Alice', 'age': 31, 'city': 'San Francisco'}\n"
     ]
    }
   ],
   "source": [
    "person = {\n",
    "    \"name\": \"Alice\",\n",
    "    \"age\": 30,\n",
    "    \"city\": \"New York\"\n",
    "}\n",
    "\n",
    "person[\"age\"] = 31 # Modify the value of the 'age' key\n",
    "print(f\"After modifying age: {person}\")\n",
    "\n",
    "person[\"city\"] = \"San Francisco\" # Modify the value of the 'city' key\n",
    "print(f\"After modifying city: {person}\")"
   ]
  },
  {
   "cell_type": "markdown",
   "metadata": {},
   "source": [
    "### d. Deleting Elements\n",
    "\n",
    "You can delete a key-value pair using the `del` keyword or the `pop()` method.\n",
    "\n",
    "* **Using `del`:** Deletes the element by key. If the key does not exist, it will raise a `KeyError`.\n",
    "    ```python\n",
    "    person = {\n",
    "        \"name\": \"Alice\",\n",
    "        \"age\": 30,\n",
    "        \"city\": \"New York\"\n",
    "    }\n",
    "    del person[\"city\"]\n",
    "    print(f\"After deleting city: {person}\")\n",
    "\n",
    "    # del person[\"country\"] # This would cause a KeyError\n",
    "    ```\n",
    "* **Using `pop(key, default_value)`:** Deletes the element by key and returns its value. If the key does not exist, you can provide a `default_value` to avoid an error.\n",
    "    ```python\n",
    "    person = {\n",
    "        \"name\": \"Alice\",\n",
    "        \"age\": 30,\n",
    "        \"city\": \"New York\"\n",
    "    }\n",
    "    removed_age = person.pop(\"age\")\n",
    "    print(f\"Removed age: {removed_age}\")\n",
    "    print(f\"After pop age: {person}\")\n",
    "\n",
    "    # Try popping a non-existent key with a default value\n",
    "    status = person.pop(\"status\", \"Unknown\")\n",
    "    print(f\"Status (not found, default used): {status}\")\n",
    "    print(f\"After pop non-existent key: {person}\")\n",
    "    ```\n",
    "\n",
    "---\n",
    "\n",
    "## 3. Common Dictionary Methods\n",
    "\n",
    "Python provides several utility methods for working with Dictionaries.\n",
    "\n",
    "* `dict.keys()`: Returns a `dict_keys` object containing all the keys in the Dictionary.\n",
    "    ```python\n",
    "    person = {\"name\": \"Alice\", \"age\": 30, \"city\": \"New York\"}\n",
    "    keys = person.keys()\n",
    "    print(f\"Keys: {list(keys)}\") # Output: ['name', 'age', 'city']\n",
    "    ```\n",
    "* `dict.values()`: Returns a `dict_values` object containing all the values in the Dictionary.\n",
    "    ```python\n",
    "    values = person.values()\n",
    "    print(f\"Values: {list(values)}\") # Output: ['Alice', 30, 'New York']\n",
    "    ```\n",
    "* `dict.items()`: Returns a `dict_items` object containing all key-value pairs as Tuples. Very useful for iterating through a Dictionary.\n",
    "    ```python\n",
    "    items = person.items()\n",
    "    print(f\"Items: {list(items)}\") # Output: [('name', 'Alice'), ('age', 30), ('city', 'New York')]\n",
    "\n",
    "    for key, value in person.items():\n",
    "        print(f\"{key}: {value}\")\n",
    "    ```\n",
    "* `dict.get(key, default_value)`: Returns the value for the specified key. If the key does not exist, it returns `None` or the `default_value` if provided (instead of raising a `KeyError`).\n",
    "    ```python\n",
    "    print(f\"Name (get): {person.get('name')}\") # Output: Alice\n",
    "    print(f\"Country (get, not found): {person.get('country')}\") # Output: None\n",
    "    print(f\"Country (get, with default): {person.get('country', 'USA')}\") # Output: USA\n",
    "    ```\n",
    "* `dict.clear()`: Removes all key-value pairs from the Dictionary.\n",
    "    ```python\n",
    "    my_dict = {\"a\": 1, \"b\": 2}\n",
    "    my_dict.clear()\n",
    "    print(f\"After clear: {my_dict}\") # Output: {}\n",
    "    ```\n",
    "* `dict.update(other_dict)`: Updates the Dictionary with key-value pairs from `other_dict`. If a key already exists, its value is updated; otherwise, the new key is added.\n",
    "    ```python\n",
    "    dict1 = {\"a\": 1, \"b\": 2}\n",
    "    dict2 = {\"b\": 20, \"c\": 30}\n",
    "    dict1.update(dict2)\n",
    "    print(f\"After update: {dict1}\") # Output: {'a': 1, 'b': 20, 'c': 30}\n",
    "    ```\n",
    "\n",
    "---\n",
    "\n",
    "## 4. Dictionary Comprehensions\n",
    "\n",
    "Similar to List Comprehensions, Dictionary Comprehensions provide a concise and efficient way to create new Dictionaries.\n",
    "\n",
    "**Basic Syntax:** `{key_expression: value_expression for item in iterable}`\n",
    "**Syntax with Condition:** `{key_expression: value_expression for item in iterable if condition}`\n",
    "\n",
    "**Examples:**\n",
    "\n",
    "* **Create a Dictionary from a List:**\n",
    "    ```python\n",
    "    numbers = [1, 2, 3, 4]\n",
    "    squares_dict = {num: num**2 for num in numbers}\n",
    "    print(f\"Squares Dictionary: {squares_dict}\") # Output: {1: 1, 2: 4, 3: 9, 4: 16}\n",
    "    ```\n",
    "\n",
    "* **Create a Dictionary with a condition:**\n",
    "    ```python\n",
    "    words = [\"apple\", \"banana\", \"cherry\", \"date\"]\n",
    "    word_lengths = {word: len(word) for word in words if len(word) > 5}\n",
    "    print(f\"Word Lengths (length > 5): {word_lengths}\") # Output: {'banana': 6, 'cherry': 6}\n",
    "    ```\n",
    "\n",
    "* **Swap keys and values (if values are unique and hashable):**\n",
    "    ```python\n",
    "    original_dict = {\"a\": 1, \"b\": 2, \"c\": 3}\n",
    "    inverted_dict = {value: key for key, value in original_dict.items()}\n",
    "    print(f\"Inverted Dictionary: {inverted_dict}\") # Output: {1: 'a', 2: 'b', 3: 'c'}\n",
    "    ```\n",
    "\n",
    "Dictionary Comprehensions are a powerful tool for creating Dictionaries in a clear and efficient manner in Python.\n",
    "\n",
    "---\n",
    "\n",
    "**Practice Exercises:**\n",
    "\n",
    "1.  Create a Dictionary `car = {\"brand\": \"Ford\", \"model\": \"Mustang\", \"year\": 1964}`.\n",
    "    * Access and print the value of the \"model\" key.\n",
    "    * Add a new key-value pair: `\"color\": \"red\"`.\n",
    "    * Modify the value of the \"year\" key to 2020.\n",
    "    * Print the Dictionary after the changes.\n",
    "2.  Delete the \"model\" key from the `car` Dictionary created above. Print the Dictionary after deletion.\n",
    "3.  Use the `get()` method to access the \"engine\" key in the `car` Dictionary. If not found, return \"Not specified\".\n",
    "4.  Create a Dictionary `inventory = {\"apple\": 50, \"banana\": 30, \"cherry\": 20}`.\n",
    "    * Print all the keys of the Dictionary.\n",
    "    * Print all the values of the Dictionary.\n",
    "    * Print all key-value pairs as Tuples.\n",
    "5.  Use Dictionary Comprehension:\n",
    "    * Create a new Dictionary from the List `fruits = [\"apple\", \"banana\", \"cherry\"]` where keys are fruit names and values are their lengths.\n",
    "    * Create a new Dictionary from `original_prices = {\"item1\": 10, \"item2\": 25, \"item3\": 8}` containing only items with a price greater than 15, with the new value being the price reduced by 10%."
   ]
  }
 ],
 "metadata": {
  "kernelspec": {
   "display_name": "venv",
   "language": "python",
   "name": "python3"
  },
  "language_info": {
   "codemirror_mode": {
    "name": "ipython",
    "version": 3
   },
   "file_extension": ".py",
   "mimetype": "text/x-python",
   "name": "python",
   "nbconvert_exporter": "python",
   "pygments_lexer": "ipython3",
   "version": "3.12.7"
  }
 },
 "nbformat": 4,
 "nbformat_minor": 5
}
