{
 "cells": [
  {
   "cell_type": "markdown",
   "metadata": {},
   "source": [
    "# Lesson 9.3: Introduction to Sorting Algorithms\n",
    "\n",
    "In computer science, **sorting** is the process of arranging elements of a list (or any collection of data) in a specific order (ascending or descending). Sorting is a fundamental and important task because many other algorithms (like binary search) perform more efficiently on sorted data.\n",
    "\n",
    "This lesson will introduce three basic sorting algorithms: Bubble Sort, Selection Sort, and Insertion Sort. We will also touch upon the concept of their time complexity.\n",
    "\n",
    "---\n",
    "\n",
    "## 1. Bubble Sort\n",
    "\n",
    "**Bubble Sort** is a simple sorting algorithm that repeatedly steps through the list, compares adjacent elements, and swaps them if they are in the wrong order. The larger elements gradually \"bubble\" to the end of the list, like bubbles in water.\n",
    "\n",
    "* **How it works:**\n",
    "    1.  Start from the beginning of the list.\n",
    "    2.  Compare the current element with the next element.\n",
    "    3.  If they are in the wrong order (e.g., current element is greater than the next for ascending sort), swap them.\n",
    "    4.  Move to the next pair of elements and repeat.\n",
    "    5.  Repeat this entire pass until no swaps are needed in a single pass, meaning the list is sorted.\n",
    "\n",
    "* **Time Complexity:**\n",
    "    * **Best Case:** $O(n)$ (when the list is already sorted).\n",
    "    * **Worst/Average Case:** $O(n^2)$.\n",
    "    * Bubble Sort is inefficient for large lists.\n",
    "\n",
    "**Example:**"
   ]
  },
  {
   "cell_type": "code",
   "execution_count": 1,
   "metadata": {},
   "outputs": [
    {
     "name": "stdout",
     "output_type": "stream",
     "text": [
      "Original list: [64, 34, 25, 12, 22, 11, 90]\n",
      "List after Bubble Sort: [11, 12, 22, 25, 34, 64, 90]\n"
     ]
    }
   ],
   "source": [
    "def bubble_sort(arr):\n",
    "    n = len(arr)\n",
    "    for i in range(n - 1): # Iterate through the entire list n-1 times\n",
    "        swapped = False # Flag to check if any swaps occurred\n",
    "        for j in range(n - 1 - i): # Iterate through adjacent pairs\n",
    "            if arr[j] > arr[j+1]:\n",
    "                arr[j], arr[j+1] = arr[j+1], arr[j] # Swap elements\n",
    "                swapped = True\n",
    "        if not swapped: # If no swaps occurred in this pass, the list is sorted\n",
    "            break\n",
    "    return arr\n",
    "\n",
    "my_list = [64, 34, 25, 12, 22, 11, 90]\n",
    "print(f\"Original list: {my_list}\")\n",
    "sorted_list = bubble_sort(my_list)\n",
    "print(f\"List after Bubble Sort: {sorted_list}\")"
   ]
  },
  {
   "cell_type": "markdown",
   "metadata": {},
   "source": [
    "---\n",
    "\n",
    "## 2. Selection Sort\n",
    "\n",
    "**Selection Sort** is another simple sorting algorithm. It works by repeatedly finding the minimum (or maximum) element from the unsorted part of the list and putting it at the beginning (or end) of the sorted part.\n",
    "\n",
    "* **How it works:**\n",
    "    1.  Find the minimum element in the unsorted portion of the list.\n",
    "    2.  Swap this minimum element with the first element of the unsorted portion.\n",
    "    3.  Move the boundary of the sorted portion one position forward.\n",
    "    4.  Repeat the process until the entire list is sorted.\n",
    "\n",
    "* **Time Complexity:**\n",
    "    * **Best/Worst/Average Case:** $O(n^2)$.\n",
    "    * Selection Sort is also inefficient for large lists.\n",
    "\n",
    "**Example:**"
   ]
  },
  {
   "cell_type": "code",
   "execution_count": 2,
   "metadata": {},
   "outputs": [
    {
     "name": "stdout",
     "output_type": "stream",
     "text": [
      "Original list: [64, 25, 12, 22, 11]\n",
      "List after Selection Sort: [11, 12, 22, 25, 64]\n"
     ]
    }
   ],
   "source": [
    "def selection_sort(arr):\n",
    "    n = len(arr)\n",
    "    for i in range(n):\n",
    "        min_idx = i # Assume the current element is the minimum\n",
    "        for j in range(i + 1, n):\n",
    "            if arr[j] < arr[min_idx]:\n",
    "                min_idx = j # Found a smaller element\n",
    "        \n",
    "        # Swap the found minimum element with the element at position i\n",
    "        arr[i], arr[min_idx] = arr[min_idx], arr[i]\n",
    "    return arr\n",
    "\n",
    "my_list = [64, 25, 12, 22, 11]\n",
    "print(f\"Original list: {my_list}\")\n",
    "sorted_list = selection_sort(my_list)\n",
    "print(f\"List after Selection Sort: {sorted_list}\")"
   ]
  },
  {
   "cell_type": "markdown",
   "metadata": {},
   "source": [
    "---\n",
    "\n",
    "## 3. Insertion Sort\n",
    "\n",
    "**Insertion Sort** works similarly to how you sort playing cards in your hands. You iterate through the list, and for each element, you \"insert\" it into its correct position within the already sorted portion of the list.\n",
    "\n",
    "* **How it works:**\n",
    "    1.  Assume the first element of the list is already sorted.\n",
    "    2.  Starting from the second element, compare it with elements in the sorted portion (from right to left).\n",
    "    3.  If the current element is smaller than a sorted element, shift the sorted elements to the right to make space.\n",
    "    4.  Insert the current element into its correct position.\n",
    "    5.  Repeat until all elements are inserted into their correct positions.\n",
    "\n",
    "* **Time Complexity:**\n",
    "    * **Best Case:** $O(n)$ (when the list is nearly sorted).\n",
    "    * **Worst/Average Case:** $O(n^2)$.\n",
    "    * Insertion Sort is efficient for small lists or nearly sorted lists.\n",
    "\n",
    "**Example:**"
   ]
  },
  {
   "cell_type": "code",
   "execution_count": 3,
   "metadata": {},
   "outputs": [
    {
     "name": "stdout",
     "output_type": "stream",
     "text": [
      "Original list: [12, 11, 13, 5, 6]\n",
      "List after Insertion Sort: [5, 6, 11, 12, 13]\n"
     ]
    }
   ],
   "source": [
    "def insertion_sort(arr):\n",
    "    for i in range(1, len(arr)): # Start from the second element\n",
    "        key = arr[i] # Element to be inserted\n",
    "        j = i - 1 # Index of the last element in the sorted portion\n",
    "\n",
    "        # Shift elements greater than key to the right\n",
    "        while j >= 0 and key < arr[j]:\n",
    "            arr[j + 1] = arr[j]\n",
    "            j -= 1\n",
    "        arr[j + 1] = key # Insert key into its correct position\n",
    "    return arr\n",
    "\n",
    "my_list = [12, 11, 13, 5, 6]\n",
    "print(f\"Original list: {my_list}\")\n",
    "sorted_list = insertion_sort(my_list)\n",
    "print(f\"List after Insertion Sort: {sorted_list}\")"
   ]
  },
  {
   "cell_type": "markdown",
   "metadata": {},
   "source": [
    "---\n",
    "\n",
    "## 4. Introduction to More Efficient Sorting Algorithms\n",
    "\n",
    "The three algorithms above (`Bubble Sort`, `Selection Sort`, `Insertion Sort`) have a time complexity of $O(n^2)$, meaning their performance degrades significantly as the list size increases. For large datasets, we need more efficient sorting algorithms with better time complexity.\n",
    "\n",
    "Two of the most efficient sorting algorithms are:\n",
    "\n",
    "### a. Merge Sort\n",
    "\n",
    "* **Concept:** A \"divide and conquer\" algorithm. It divides the list into two halves, recursively sorts each half, and then merges the two sorted halves back together.\n",
    "* **Time Complexity:** $O(n \\log n)$ in all cases (best, worst, average).\n",
    "* **Pros:** Stable (maintains the relative order of equal elements), efficient for large lists.\n",
    "* **Cons:** Requires additional memory space ($O(n)$) for the merging operation.\n",
    "\n",
    "### b. Quick Sort\n",
    "\n",
    "* **Concept:** Also a \"divide and conquer\" algorithm. It picks an element as a \"pivot\", then partitions the array around the pivot such that all elements smaller than the pivot are on one side and all elements greater than the pivot are on the other. It then recursively sorts the sub-partitions.\n",
    "* **Time Complexity:**\n",
    "    * **Best/Average Case:** $O(n \\log n)$.\n",
    "    * **Worst Case:** $O(n^2)$ (occurs with poor pivot selection, e.g., always picking the smallest/largest element).\n",
    "* **Pros:** Often the fastest sorting algorithm in practice (on average), in-place sorting (requires less additional memory).\n",
    "* **Cons:** Not stable, can be $O(n^2)$ in the worst case if pivots are not chosen carefully.\n",
    "\n",
    "Algorithms with $O(n \\log n)$ complexity like `Merge Sort` and `Quick Sort` significantly outperform $O(n^2)$ algorithms when dealing with large datasets, which is why they are widely used in practical sorting libraries (e.g., Python's built-in `sort()` function uses a hybrid algorithm called Timsort, which combines Merge Sort and Insertion Sort).\n",
    "\n",
    "---\n",
    "\n",
    "**Practice Exercises:**\n",
    "\n",
    "1.  **Bubble Sort:**\n",
    "    * Use the defined `bubble_sort` function to sort the list `[5, 1, 4, 2, 8]`. Print the sorted list.\n",
    "2.  **Selection Sort:**\n",
    "    * Use the defined `selection_sort` function to sort the list `[29, 10, 14, 37, 13]`. Print the sorted list.\n",
    "3.  **Insertion Sort:**\n",
    "    * Use the defined `insertion_sort` function to sort the list `[9, 5, 1, 4, 3]`. Print the sorted list.\n",
    "4.  **Experiment with Python's `sort()`:**\n",
    "    * Create a large list of random numbers (e.g., 10,000 numbers).\n",
    "    * Measure the execution time of `bubble_sort`, `selection_sort`, and `insertion_sort` on this list.\n",
    "    * Compare it with the execution time of Python's built-in `list.sort()` method.\n",
    "    * Observe the performance differences and draw conclusions."
   ]
  }
 ],
 "metadata": {
  "kernelspec": {
   "display_name": "venv",
   "language": "python",
   "name": "python3"
  },
  "language_info": {
   "codemirror_mode": {
    "name": "ipython",
    "version": 3
   },
   "file_extension": ".py",
   "mimetype": "text/x-python",
   "name": "python",
   "nbconvert_exporter": "python",
   "pygments_lexer": "ipython3",
   "version": "3.12.7"
  }
 },
 "nbformat": 4,
 "nbformat_minor": 5
}
