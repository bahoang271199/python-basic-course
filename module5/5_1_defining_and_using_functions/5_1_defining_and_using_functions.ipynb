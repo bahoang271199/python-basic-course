{
 "cells": [
  {
   "cell_type": "markdown",
   "metadata": {},
   "source": [
    "# Lesson 5.1: Defining and Using Functions\n",
    "\n",
    "In programming, a **function** is an organized, reusable block of code that performs a specific task. Using functions is one of the most important concepts in programming, making your code much cleaner, more readable, and easier to maintain.\n",
    "\n",
    "---\n",
    "\n",
    "## 1. Concept of Functions and Benefits of Using Functions\n",
    "\n",
    "### a. Concept of Functions\n",
    "\n",
    "Imagine you have a task that needs to be performed multiple times in your program, such as calculating the sum of two numbers, printing a specific message, or performing a complex calculation. Instead of writing the same piece of code repeatedly, you can encapsulate that code into a \"function.\"\n",
    "\n",
    "When you need to perform that task, you simply \"call\" that function.\n",
    "\n",
    "### b. Benefits of Using Functions\n",
    "\n",
    "* **Code Reusability:** Write once, use many times. This helps reduce duplicate code.\n",
    "* **Code Organization:** Divide a large program into smaller, more manageable parts. Each function has a clear responsibility.\n",
    "* **Easier Maintenance:** When there's a bug or a logic change is needed, you only need to modify it in one place (within the function), instead of searching for and changing it in multiple locations.\n",
    "* **Easier Debugging:** When an error occurs, you can easily pinpoint the issue to a specific function.\n",
    "* **Improved Readability:** The code becomes clearer and easier to understand because each function has a name that describes its task.\n",
    "\n",
    "---\n",
    "\n",
    "## 2. Defining Functions with the `def` Keyword\n",
    "\n",
    "In Python, you define a function using the `def` keyword, followed by the function name, a pair of parentheses `()` (which may contain parameters), and a colon `:`. The function's code block must be indented.\n",
    "\n",
    "**Syntax:**\n",
    "\n",
    "```python\n",
    "def function_name(parameter_1, parameter_2, ...):\n",
    "    \"\"\"\n",
    "    This is the function's docstring. It describes the function's purpose.\n",
    "    \"\"\"\n",
    "    # Code block of the function\n",
    "    # Indented statements\n",
    "    # ...\n",
    "    # return value (optional)\n",
    "```\n",
    "\n",
    "* `def`: Required keyword to define a function.\n",
    "* `function_name`: The name you give to the function. Should follow `snake_case` convention (e.g., `calculate_sum`, `print_message`).\n",
    "* `()`: Contains parameters that the function accepts. Can be empty if the function takes no parameters.\n",
    "* `:`: Ends the function definition line.\n",
    "* **Indentation:** All statements inside the function must be indented (usually 4 spaces) relative to the `def` line.\n",
    "* **Docstring (optional but recommended):** A multi-line string (usually enclosed in triple double quotes `\"\"\" Docstring \"\"\"`) immediately after the `def` line to describe the function's functionality. Docstrings are very useful for code documentation.\n",
    "\n",
    "**Example:**"
   ]
  },
  {
   "cell_type": "code",
   "execution_count": 1,
   "metadata": {},
   "outputs": [
    {
     "name": "stdout",
     "output_type": "stream",
     "text": [
      "Hello!\n",
      "Welcome to Python.\n"
     ]
    }
   ],
   "source": [
    "def say_hello():\n",
    "    \"\"\"This function prints a simple greeting.\"\"\"\n",
    "    print(\"Hello!\")\n",
    "    print(\"Welcome to Python.\")\n",
    "\n",
    "# Call the function to execute it\n",
    "say_hello()"
   ]
  },
  {
   "cell_type": "markdown",
   "metadata": {},
   "source": [
    "---\n",
    "\n",
    "## 3. Function Parameters and Arguments\n",
    "\n",
    "* **Parameters:** These are variables declared in the function definition. They act as \"placeholders\" for the data the function will receive.\n",
    "* **Arguments:** These are the actual values you pass into the function when you call it. These arguments will be assigned to the corresponding parameters.\n",
    "\n",
    "**Example of a function with parameters:**"
   ]
  },
  {
   "cell_type": "code",
   "execution_count": 2,
   "metadata": {},
   "outputs": [
    {
     "name": "stdout",
     "output_type": "stream",
     "text": [
      "Hello, Alice!\n",
      "Hello, Bob!\n"
     ]
    }
   ],
   "source": [
    "def greet(name): # 'name' is a parameter\n",
    "    \"\"\"This function prints a personalized greeting.\"\"\"\n",
    "    print(f\"Hello, {name}!\")\n",
    "\n",
    "# Call the function with different arguments\n",
    "greet(\"Alice\")   # \"Alice\" is an argument\n",
    "greet(\"Bob\")     # \"Bob\" is an argument"
   ]
  },
  {
   "cell_type": "markdown",
   "metadata": {},
   "source": [
    "Functions can have multiple parameters:\n",
    "\n",
    "```python\n",
    "def add_numbers(a, b): # 'a' and 'b' are parameters\n",
    "    \"\"\"This function calculates the sum of two numbers and prints the result.\"\"\"\n",
    "    sum_result = a + b\n",
    "    print(f\"The sum of {a} and {b} is: {sum_result}\")\n",
    "\n",
    "add_numbers(10, 5) # 10 and 5 are arguments\n",
    "add_numbers(3.5, 2.1)\n",
    "```\n",
    "\n",
    "---\n",
    "\n",
    "## 4. Function Return Values (`return`)\n",
    "\n",
    "A function can perform a task and also return one or more values back to where it was called. The `return` keyword is used to return values.\n",
    "\n",
    "* When Python encounters a `return` statement, the function immediately terminates, and the value after `return` is sent back.\n",
    "* If no value is specified after `return`, or if there is no `return` statement at all, the function will implicitly return `None`.\n",
    "\n",
    "**Example of a function returning a single value:**"
   ]
  },
  {
   "cell_type": "code",
   "execution_count": 3,
   "metadata": {},
   "outputs": [
    {
     "name": "stdout",
     "output_type": "stream",
     "text": [
      "The area of the room is: 40\n",
      "The area of the garden is: 150\n"
     ]
    }
   ],
   "source": [
    "def calculate_area(length, width):\n",
    "    \"\"\"This function calculates the area of a rectangle.\"\"\"\n",
    "    area = length * width\n",
    "    return area # Returns the area value\n",
    "\n",
    "# Call the function and store the returned value in a variable\n",
    "room_area = calculate_area(5, 8)\n",
    "print(f\"The area of the room is: {room_area}\")\n",
    "\n",
    "# Use the returned value directly\n",
    "print(f\"The area of the garden is: {calculate_area(10, 15)}\")"
   ]
  },
  {
   "cell_type": "markdown",
   "metadata": {},
   "source": [
    "**Example of a function returning multiple values:**\n",
    "Python can return multiple values by packing them into a Tuple.\n",
    "\n",
    "```python\n",
    "def get_user_info():\n",
    "    \"\"\"This function returns the user's name and age.\"\"\"\n",
    "    name = \"Charlie\"\n",
    "    age = 25\n",
    "    return name, age # Returns a tuple (name, age)\n",
    "\n",
    "# Receive the returned values by assigning them to multiple variables\n",
    "user_name, user_age = get_user_info()\n",
    "print(f\"User Name: {user_name}, Age: {user_age}\")\n",
    "```\n",
    "\n",
    "---\n",
    "\n",
    "## 5. Functions Without Return Values\n",
    "\n",
    "A function does not necessarily have to return a value. It might just perform some action (e.g., printing to the console, modifying a mutable object).\n",
    "\n",
    "If a function has no `return` statement, or only `return` without any value following it, it will implicitly return `None`.\n",
    "\n",
    "**Example:**"
   ]
  },
  {
   "cell_type": "code",
   "execution_count": 4,
   "metadata": {},
   "outputs": [
    {
     "name": "stdout",
     "output_type": "stream",
     "text": [
      "Message: Learning Python is fun!\n",
      "Return value of display_message function: None\n"
     ]
    }
   ],
   "source": [
    "def display_message(message):\n",
    "    \"\"\"This function just prints a message, returning nothing.\"\"\"\n",
    "    print(f\"Message: {message}\")\n",
    "\n",
    "result = display_message(\"Learning Python is fun!\")\n",
    "print(f\"Return value of display_message function: {result}\") # Output: Return value of display_message function: None"
   ]
  },
  {
   "cell_type": "markdown",
   "metadata": {},
   "source": [
    "Although `result` receives `None`, the primary purpose of `display_message` is to perform the printing action, not to provide a value for further use.\n",
    "\n",
    "---\n",
    "\n",
    "**Practice Exercises:**\n",
    "\n",
    "1.  Define a function `print_hello()` with no parameters and no return value. This function should simply print \"Hello from a function!\". Call this function.\n",
    "2.  Define a function `add_two_numbers(num1, num2)` that takes two parameters. This function should calculate the sum of the two numbers and return the result. Call the function with any two numbers and print the sum.\n",
    "3.  Define a function `get_full_name(first_name, last_name)` that takes two parameters. This function should concatenate `first_name` and `last_name` into a `full_name` string and return it. Print the full name.\n",
    "4.  Define a function `is_even(number)` that takes an integer parameter. This function should return `True` if the number is even, otherwise return `False`. Test the function with an even and an odd number.\n",
    "5.  Define a function `calculate_stats(list_of_numbers)` that takes a List of numbers. This function should calculate the sum and average of the numbers in the List, then return both values. Call the function with an example List and print the sum and average."
   ]
  }
 ],
 "metadata": {
  "kernelspec": {
   "display_name": "venv",
   "language": "python",
   "name": "python3"
  },
  "language_info": {
   "codemirror_mode": {
    "name": "ipython",
    "version": 3
   },
   "file_extension": ".py",
   "mimetype": "text/x-python",
   "name": "python",
   "nbconvert_exporter": "python",
   "pygments_lexer": "ipython3",
   "version": "3.12.7"
  }
 },
 "nbformat": 4,
 "nbformat_minor": 5
}
