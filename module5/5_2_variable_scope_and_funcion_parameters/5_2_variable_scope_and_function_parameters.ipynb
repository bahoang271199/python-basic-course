{
 "cells": [
  {
   "cell_type": "markdown",
   "metadata": {},
   "source": [
    "# Lesson 5.2: Variable Scope and Function Parameters\n",
    "\n",
    "In this lesson, we will delve into how Python manages variables in different parts of your program, known as **variable scope**. Understanding scope is crucial for avoiding errors and writing predictable code. We will also explore advanced ways to pass parameters to functions, making your functions more flexible.\n",
    "\n",
    "---\n",
    "\n",
    "## 1. Variable Scope and the LEGB Rule\n",
    "\n",
    "The **scope** of a variable is the region in the program where that variable can be accessed. Python follows the **LEGB rule** to search for variables:\n",
    "\n",
    "1.  **L (Local):** Variables defined inside a function. These variables can only be accessed from within that function.\n",
    "2.  **E (Enclosing):** The scope of nested functions. If an inner function refers to a variable not in its local scope, Python will look in the scope of its enclosing function.\n",
    "3.  **G (Global):** Variables defined at the top level of a module (a `.py` file). These variables can be accessed from anywhere within that module.\n",
    "4.  **B (Built-in):** Names pre-defined in Python (e.g., `print`, `len`, `sum`, `True`, `False`). These names are always available.\n",
    "\n",
    "**Example illustrating the LEGB rule:**"
   ]
  },
  {
   "cell_type": "code",
   "execution_count": 1,
   "metadata": {},
   "outputs": [
    {
     "name": "stdout",
     "output_type": "stream",
     "text": [
      "Inside inner_function: I am a local variable\n",
      "Inside inner_function: I am an enclosing variable\n",
      "Inside inner_function: I am a global variable\n",
      "Inside inner_function: 6\n",
      "Outside functions: I am a global variable\n"
     ]
    }
   ],
   "source": [
    "# G (Global) scope\n",
    "global_var = \"I am a global variable\"\n",
    "\n",
    "def outer_function():\n",
    "    # E (Enclosing) scope for inner_function\n",
    "    enclosing_var = \"I am an enclosing variable\"\n",
    "\n",
    "    def inner_function():\n",
    "        # L (Local) scope\n",
    "        local_var = \"I am a local variable\"\n",
    "        print(f\"Inside inner_function: {local_var}\")\n",
    "        print(f\"Inside inner_function: {enclosing_var}\") # Accessing enclosing variable\n",
    "        print(f\"Inside inner_function: {global_var}\")   # Accessing global variable\n",
    "        print(f\"Inside inner_function: {len('Python')}\") # Accessing built-in variable\n",
    "\n",
    "    inner_function()\n",
    "    # print(local_var) # Error: NameError, local_var is not accessible here\n",
    "\n",
    "outer_function()\n",
    "# print(enclosing_var) # Error: NameError, enclosing_var is not accessible here\n",
    "print(f\"Outside functions: {global_var}\")"
   ]
  },
  {
   "cell_type": "markdown",
   "metadata": {},
   "source": [
    "---\n",
    "\n",
    "## 2. `global` and `nonlocal` Keywords\n",
    "\n",
    "By default, when you assign a value to a variable inside a function, Python creates a new local variable. To modify a variable in an outer scope, you need to use special keywords.\n",
    "\n",
    "### a. `global`\n",
    "\n",
    "The `global` keyword is used to indicate that you are referring to a global variable and want to modify it, rather than creating a new local variable with the same name.\n",
    "\n",
    "**Example:**"
   ]
  },
  {
   "cell_type": "code",
   "execution_count": 2,
   "metadata": {},
   "outputs": [
    {
     "name": "stdout",
     "output_type": "stream",
     "text": [
      "Before function call: 0\n",
      "Inside function (global): 1\n",
      "After function call: 1\n",
      "Before local function call: 0\n",
      "Inside function (local): 10\n",
      "After local function call: 0\n"
     ]
    }
   ],
   "source": [
    "count = 0 # Global variable\n",
    "\n",
    "def increment_global_count():\n",
    "    global count # Declare that we want to modify the global 'count' variable\n",
    "    count += 1\n",
    "    print(f\"Inside function (global): {count}\")\n",
    "\n",
    "print(f\"Before function call: {count}\") # Output: 0\n",
    "increment_global_count()\n",
    "print(f\"After function call: {count}\")  # Output: 1\n",
    "\n",
    "# Example without using global (creates a new local variable)\n",
    "count_local_test = 0\n",
    "def try_increment_local():\n",
    "    count_local_test = 10 # Creates a new local variable named count_local_test\n",
    "    print(f\"Inside function (local): {count_local_test}\")\n",
    "\n",
    "print(f\"Before local function call: {count_local_test}\") # Output: 0\n",
    "try_increment_local()\n",
    "print(f\"After local function call: {count_local_test}\")  # Output: 0 (global variable unchanged)"
   ]
  },
  {
   "cell_type": "markdown",
   "metadata": {},
   "source": [
    "### b. `nonlocal`\n",
    "\n",
    "The `nonlocal` keyword is used in nested functions to indicate that a variable is neither local nor global, but belongs to the scope of the nearest enclosing function.\n",
    "\n",
    "**Example:**"
   ]
  },
  {
   "cell_type": "code",
   "execution_count": 3,
   "metadata": {},
   "outputs": [
    {
     "name": "stdout",
     "output_type": "stream",
     "text": [
      "Inside inner_function: Hi there\n",
      "Inside outer_function: Hi there\n"
     ]
    }
   ],
   "source": [
    "def outer_function():\n",
    "    message = \"Hello\" # Variable in the enclosing scope\n",
    "\n",
    "    def inner_function():\n",
    "        nonlocal message # Declare that we want to modify the 'message' variable of the enclosing function\n",
    "        message = \"Hi there\"\n",
    "        print(f\"Inside inner_function: {message}\")\n",
    "\n",
    "    inner_function()\n",
    "    print(f\"Inside outer_function: {message}\") # Output: Hi there (modified by inner_function)\n",
    "\n",
    "outer_function()"
   ]
  },
  {
   "cell_type": "markdown",
   "metadata": {},
   "source": [
    "---\n",
    "\n",
    "## 3. Default Arguments\n",
    "\n",
    "You can assign a default value to function parameters. If the caller of the function does not provide an argument for that parameter, the default value will be used. If an argument is provided, it will override the default value.\n",
    "\n",
    "**Example:**"
   ]
  },
  {
   "cell_type": "code",
   "execution_count": 4,
   "metadata": {},
   "outputs": [
    {
     "name": "stdout",
     "output_type": "stream",
     "text": [
      "Hello, Alice!\n",
      "Hi, Bob!\n",
      "Bonjour, Charlie!\n"
     ]
    }
   ],
   "source": [
    "def greet(name, greeting=\"Hello\"): # 'greeting' has a default value of \"Hello\"\n",
    "    print(f\"{greeting}, {name}!\")\n",
    "\n",
    "greet(\"Alice\")           # Output: Hello, Alice!\n",
    "greet(\"Bob\", \"Hi\")       # Output: Hi, Bob!\n",
    "greet(greeting=\"Bonjour\", name=\"Charlie\") # Can use keyword arguments"
   ]
  },
  {
   "cell_type": "markdown",
   "metadata": {},
   "source": [
    "**Important note about default arguments:**\n",
    "The default value of a parameter is evaluated **once** when the function is defined. This can lead to unexpected behavior if the default value is a mutable object (like a list or dictionary).\n",
    "\n",
    "**Example (Avoid this common mistake):**\n",
    "\n",
    "```python\n",
    "def add_item_bad(item, my_list=[]): # Using an empty list as default\n",
    "    my_list.append(item)\n",
    "    return my_list\n",
    "\n",
    "list1 = add_item_bad(\"apple\")\n",
    "print(list1) # Output: ['apple']\n",
    "\n",
    "list2 = add_item_bad(\"banana\")\n",
    "print(list2) # Output: ['apple', 'banana'] - Error! List1 and List2 share the same default list object\n",
    "```\n",
    "**Solution:** Use `None` as the default value and initialize the mutable object inside the function.\n",
    "\n",
    "```python\n",
    "def add_item_good(item, my_list=None):\n",
    "    if my_list is None:\n",
    "        my_list = [] # Initialize a new list if none was passed\n",
    "    my_list.append(item)\n",
    "    return my_list\n",
    "\n",
    "list1 = add_item_good(\"apple\")\n",
    "print(list1) # Output: ['apple']\n",
    "\n",
    "list2 = add_item_good(\"banana\")\n",
    "print(list2) # Output: ['banana'] - Correct!\n",
    "```\n",
    "\n",
    "---\n",
    "\n",
    "## 4. Keyword Arguments\n",
    "\n",
    "When calling a function, you can pass arguments by specifying the parameter name, followed by an equals sign (`=`) and the value. This makes the code more readable, especially for functions with many parameters.\n",
    "\n",
    "**Example:**"
   ]
  },
  {
   "cell_type": "code",
   "execution_count": 5,
   "metadata": {},
   "outputs": [
    {
     "name": "stdout",
     "output_type": "stream",
     "text": [
      "Name: Alice, Age: 30, City: New York\n",
      "Name: Bob, Age: 25, City: London\n",
      "Name: Charlie, Age: 35, City: Paris\n"
     ]
    }
   ],
   "source": [
    "def describe_person(name, age, city):\n",
    "    print(f\"Name: {name}, Age: {age}, City: {city}\")\n",
    "\n",
    "# Using positional arguments (by order)\n",
    "describe_person(\"Alice\", 30, \"New York\")\n",
    "\n",
    "# Using keyword arguments (by name, order doesn't matter)\n",
    "describe_person(age=25, city=\"London\", name=\"Bob\")\n",
    "\n",
    "# Combining positional and keyword arguments (positional must come first)\n",
    "describe_person(\"Charlie\", city=\"Paris\", age=35)\n",
    "\n",
    "# Error: keyword argument before positional argument\n",
    "# describe_person(name=\"David\", 40, \"Berlin\") # This would raise a SyntaxError"
   ]
  },
  {
   "cell_type": "markdown",
   "metadata": {},
   "source": [
    "---\n",
    "\n",
    "## 5. Arbitrary Arguments (`*args`, `**kwargs`)\n",
    "\n",
    "Python provides special syntax for functions to accept an unknown number of arguments.\n",
    "\n",
    "### a. `*args` (Arguments)\n",
    "\n",
    "`*args` allows a function to accept an arbitrary number of positional arguments. These arguments will be packed into a **tuple** inside the function.\n",
    "\n",
    "**Example:**"
   ]
  },
  {
   "cell_type": "code",
   "execution_count": 6,
   "metadata": {},
   "outputs": [
    {
     "name": "stdout",
     "output_type": "stream",
     "text": [
      "6\n",
      "100\n",
      "0\n"
     ]
    }
   ],
   "source": [
    "def sum_all_numbers(*numbers): # 'numbers' will be a tuple\n",
    "    total = 0\n",
    "    for num in numbers:\n",
    "        total += num\n",
    "    return total\n",
    "\n",
    "print(sum_all_numbers(1, 2, 3))         # Output: 6\n",
    "print(sum_all_numbers(10, 20, 30, 40)) # Output: 100\n",
    "print(sum_all_numbers())                # Output: 0"
   ]
  },
  {
   "cell_type": "markdown",
   "metadata": {},
   "source": [
    "### b. `**kwargs` (Keyword Arguments)\n",
    "\n",
    "`**kwargs` allows a function to accept an arbitrary number of keyword arguments. These arguments will be packed into a **dictionary** inside the function.\n",
    "\n",
    "**Example:**"
   ]
  },
  {
   "cell_type": "code",
   "execution_count": 7,
   "metadata": {},
   "outputs": [
    {
     "name": "stdout",
     "output_type": "stream",
     "text": [
      "User Details:\n",
      "  name: Alice\n",
      "  age: 30\n",
      "  city: New York\n",
      "User Details:\n",
      "  product: Laptop\n",
      "  price: 1200\n"
     ]
    }
   ],
   "source": [
    "def print_user_details(**details): # 'details' will be a dictionary\n",
    "    print(\"User Details:\")\n",
    "    for key, value in details.items():\n",
    "        print(f\"  {key}: {value}\")\n",
    "\n",
    "print_user_details(name=\"Alice\", age=30, city=\"New York\")\n",
    "print_user_details(product=\"Laptop\", price=1200)"
   ]
  },
  {
   "cell_type": "markdown",
   "metadata": {},
   "source": [
    "### c. Combining `*args` and `**kwargs`\n",
    "\n",
    "You can combine both in a function definition. The order must be: regular parameters, `*args`, default parameters, `**kwargs`.\n",
    "\n",
    "```python\n",
    "def complex_function(required_arg, *args, default_arg=\"default\", **kwargs):\n",
    "    print(f\"Required Arg: {required_arg}\")\n",
    "    print(f\"Positional Args (*args): {args}\")\n",
    "    print(f\"Default Arg: {default_arg}\")\n",
    "    print(f\"Keyword Args (**kwargs): {kwargs}\")\n",
    "\n",
    "complex_function(10, 1, 2, 3, default_arg=\"custom\", key1=\"value1\", key2=\"value2\")\n",
    "# Output:\n",
    "# Required Arg: 10\n",
    "# Positional Args (*args): (1, 2, 3)\n",
    "# Default Arg: custom\n",
    "# Keyword Args (**kwargs): {'key1': 'value1', 'key2': 'value2'}\n",
    "\n",
    "complex_function(\"hello\", \"world\")\n",
    "# Output:\n",
    "# Required Arg: hello\n",
    "# Positional Args (*args): ('world',)\n",
    "# Default Arg: default\n",
    "# Keyword Args (**kwargs): {}\n",
    "```\n",
    "\n",
    "---\n",
    "\n",
    "## 6. Lambda Functions (Anonymous Functions)\n",
    "\n",
    "A **Lambda function** is a small, anonymous (nameless) function that can only contain a single expression. They are typically used for simple, concise tasks and are often used with higher-order functions like `map()`, `filter()`, `sorted()`.\n",
    "\n",
    "**Syntax:**\n",
    "\n",
    "```python\n",
    "lambda arguments: expression\n",
    "```\n",
    "\n",
    "**Examples:**"
   ]
  },
  {
   "cell_type": "code",
   "execution_count": 8,
   "metadata": {},
   "outputs": [
    {
     "name": "stdout",
     "output_type": "stream",
     "text": [
      "5\n",
      "5\n",
      "Sorted by age: [('Charlie', 18), ('Alice', 20), ('Bob', 25)]\n",
      "Even numbers: [2, 4, 6, 8, 10]\n"
     ]
    }
   ],
   "source": [
    "# Regular function to add\n",
    "def add(a, b):\n",
    "    return a + b\n",
    "print(add(2, 3)) # Output: 5\n",
    "\n",
    "# Equivalent Lambda function\n",
    "add_lambda = lambda a, b: a + b\n",
    "print(add_lambda(2, 3)) # Output: 5\n",
    "\n",
    "# Using Lambda with sorted()\n",
    "students = [('Alice', 20), ('Bob', 25), ('Charlie', 18)]\n",
    "# Sort by age\n",
    "sorted_students = sorted(students, key=lambda student: student[1])\n",
    "print(f\"Sorted by age: {sorted_students}\") # Output: [('Charlie', 18), ('Alice', 20), ('Bob', 25)]\n",
    "\n",
    "# Using Lambda with filter()\n",
    "numbers = [1, 2, 3, 4, 5, 6, 7, 8, 9, 10]\n",
    "even_numbers = list(filter(lambda x: x % 2 == 0, numbers))\n",
    "print(f\"Even numbers: {even_numbers}\") # Output: [2, 4, 6, 8, 10]"
   ]
  },
  {
   "cell_type": "markdown",
   "metadata": {},
   "source": [
    "Lambda functions are often used when you need a simple function for a short period and don't want to define a full function using `def`.\n",
    "\n",
    "---\n",
    "\n",
    "**Practice Exercises:**\n",
    "\n",
    "1.  **Variable Scope:**\n",
    "    * Create a global variable `x = 10`.\n",
    "    * Define a function `my_function()` that creates a local variable `x = 5`.\n",
    "    * Print the value of `x` inside `my_function()` and then print the value of `x` outside the function. Observe the difference.\n",
    "2.  **`global` Keyword:**\n",
    "    * Modify exercise 1 so that `my_function()` modifies the global `x` variable instead of creating a local one.\n",
    "3.  **`nonlocal` Keyword:**\n",
    "    * Create an `outer()` function with a variable `count = 0`.\n",
    "    * Inside `outer()`, define an `inner()` function and use `nonlocal` to increment `count` by 1.\n",
    "    * Call `inner()` twice inside `outer()`.\n",
    "    * Print the value of `count` after calling `inner()` in `outer()`.\n",
    "4.  **Default Arguments:**\n",
    "    * Define a function `send_email(to, subject, body=\"No content\")` with a default value for `body`.\n",
    "    * Call this function once with only `to` and `subject`.\n",
    "    * Call this function once with all three arguments.\n",
    "5.  **Keyword Arguments:**\n",
    "    * Define a function `create_user(username, password, email, role=\"user\")`.\n",
    "    * Call this function using both positional and keyword arguments, ensuring `role` is set to \"admin\".\n",
    "6.  **Arbitrary Arguments (`*args`, `**kwargs`):**\n",
    "    * Define a function `calculate_product(*numbers)` that takes an arbitrary number of numbers and returns their product.\n",
    "    * Define a function `display_config(**settings)` that takes an arbitrary number of keyword settings and prints them as \"Key: Value\".\n",
    "7.  **Lambda Functions:**\n",
    "    * Use a lambda function to create an `is_positive` function that checks if a number is positive.\n",
    "    * Use `filter()` with a lambda function to filter out names starting with 'A' from the list `names = [\"Alice\", \"Bob\", \"Anna\", \"Charlie\"]`."
   ]
  }
 ],
 "metadata": {
  "kernelspec": {
   "display_name": "venv",
   "language": "python",
   "name": "python3"
  },
  "language_info": {
   "codemirror_mode": {
    "name": "ipython",
    "version": 3
   },
   "file_extension": ".py",
   "mimetype": "text/x-python",
   "name": "python",
   "nbconvert_exporter": "python",
   "pygments_lexer": "ipython3",
   "version": "3.12.7"
  }
 },
 "nbformat": 4,
 "nbformat_minor": 5
}
