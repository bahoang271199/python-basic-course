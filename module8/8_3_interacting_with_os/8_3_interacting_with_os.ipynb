{
 "cells": [
  {
   "cell_type": "markdown",
   "metadata": {},
   "source": [
    "# Lesson 8.3: Interacting with the Operating System\n",
    "\n",
    "In programming, sometimes you need to interact directly with the operating system to manage files and directories, access system information, or run external commands. Python provides powerful modules to perform these tasks easily and platform-independently. This lesson will introduce the `os`, `sys`, and `shutil` modules.\n",
    "\n",
    "---\n",
    "\n",
    "## 1. The `os` Module: File and Directory Operations\n",
    "\n",
    "The `os` (operating system) module provides a way to interact with the underlying operating system that Python is running on. It allows you to perform operations such as creating, deleting, renaming files and directories, changing the current working directory, and so on.\n",
    "\n",
    "### a. Directory Operations\n",
    "\n",
    "* `os.mkdir(path)`: Creates a new directory at `path`. Raises an error if the directory already exists or the parent directory does not exist.\n",
    "* `os.makedirs(path)`: Creates intermediate directories if they don't exist.\n",
    "* `os.rmdir(path)`: Removes an empty directory. Raises an error if the directory is not empty.\n",
    "* `os.removedirs(path)`: Recursively removes directories and their empty parent directories.\n",
    "* `os.chdir(path)`: Changes the current working directory.\n",
    "* `os.getcwd()`: Returns the current working directory path.\n",
    "\n",
    "**Example:**"
   ]
  },
  {
   "cell_type": "code",
   "execution_count": 9,
   "metadata": {},
   "outputs": [
    {
     "name": "stdout",
     "output_type": "stream",
     "text": [
      "Current working directory: c:\\Users\\nbh\\AILectures\\python-basic-course\\module8\\8_3_interacting_with_os\n",
      "Created directory 'my_new_directory'\n",
      "Created directory 'nested/sub/dir'.\n",
      "New working directory: c:\\Users\\nbh\\AILectures\\python-basic-course\\module8\\8_3_interacting_with_os\\my_new_directory\n",
      "Back to root directory: c:\\Users\\nbh\\AILectures\\python-basic-course\\module8\\8_3_interacting_with_os\n",
      "Removed directory 'my_new_directory'.\n",
      "Removed 'nested/sub/dir' and its empty parent directories.\n"
     ]
    }
   ],
   "source": [
    "import os\n",
    "\n",
    "# Get the current working directory\n",
    "print(f\"Current working directory: {os.getcwd()}\")\n",
    "\n",
    "# Create a new directory\n",
    "try:\n",
    "    os.mkdir(\"my_new_directory\")\n",
    "    print(\"Created directory 'my_new_directory'\")\n",
    "except FileExistsError:\n",
    "    print(\"Directory 'my_new_directory' already exists.\")\n",
    "\n",
    "# Create nested directories\n",
    "os.makedirs(\"nested/sub/dir\", exist_ok=True) # exist_ok=True avoids error if already exists\n",
    "print(\"Created directory 'nested/sub/dir'.\")\n",
    "\n",
    "# Change working directory\n",
    "os.chdir(\"my_new_directory\")\n",
    "print(f\"New working directory: {os.getcwd()}\")\n",
    "\n",
    "# Go back to the script's root directory\n",
    "os.chdir(\"../\")\n",
    "print(f\"Back to root directory: {os.getcwd()}\")\n",
    "\n",
    "# Clean up: remove the created directories\n",
    "try:\n",
    "    # Need to remove files inside 'nested/sub/dir' if any, before rmdir\n",
    "    # For this example, they are empty, so rmdir/removedirs will work\n",
    "    os.rmdir(\"my_new_directory\")\n",
    "    print(\"Removed directory 'my_new_directory'.\")\n",
    "except OSError as e:\n",
    "    print(f\"Error removing directory 'my_new_directory': {e}\")\n",
    "\n",
    "try:\n",
    "    # os.rmdir(\"nested/sub/dir\") # This would work if only 'dir' was created\n",
    "    # os.rmdir(\"nested/sub\") # Then this\n",
    "    # os.rmdir(\"nested\") # Then this\n",
    "    os.removedirs(\"nested/sub/dir\") # Removes empty subdirectories and their empty parents\n",
    "    print(\"Removed 'nested/sub/dir' and its empty parent directories.\")\n",
    "except OSError as e:\n",
    "    print(f\"Error removing nested directories: {e}\")"
   ]
  },
  {
   "cell_type": "markdown",
   "metadata": {},
   "source": [
    "### b. File Operations\n",
    "\n",
    "* `os.rename(old_path, new_path)`: Renames a file or directory.\n",
    "* `os.remove(path)`: Deletes a file. Raises an error if `path` is a directory.\n",
    "* `os.path.exists(path)`: Checks if a `path` exists (file or directory).\n",
    "* `os.path.isfile(path)`: Checks if a `path` is a file.\n",
    "* `os.path.isdir(path)`: Checks if a `path` is a directory.\n",
    "\n",
    "**Example:**"
   ]
  },
  {
   "cell_type": "code",
   "execution_count": 2,
   "metadata": {},
   "outputs": [
    {
     "name": "stdout",
     "output_type": "stream",
     "text": [
      "\n",
      "--- File Operations ---\n",
      "Renamed 'old_file.txt' to 'new_file.txt'.\n",
      "'new_file.txt' exists? True\n",
      "'new_file.txt' is a file? True\n",
      "'non_existent_file.txt' exists? False\n",
      "Deleted 'new_file.txt'.\n",
      "'new_file.txt' exists? False\n"
     ]
    }
   ],
   "source": [
    "import os\n",
    "\n",
    "# Create a sample file\n",
    "with open(\"old_file.txt\", \"w\") as f:\n",
    "    f.write(\"Content of the old file.\")\n",
    "\n",
    "print(\"\\n--- File Operations ---\")\n",
    "# Rename the file\n",
    "os.rename(\"old_file.txt\", \"new_file.txt\")\n",
    "print(\"Renamed 'old_file.txt' to 'new_file.txt'.\")\n",
    "\n",
    "# Check existence\n",
    "print(f\"'new_file.txt' exists? {os.path.exists('new_file.txt')}\")\n",
    "print(f\"'new_file.txt' is a file? {os.path.isfile('new_file.txt')}\")\n",
    "print(f\"'non_existent_file.txt' exists? {os.path.exists('non_existent_file.txt')}\")\n",
    "\n",
    "# Delete the file\n",
    "os.remove(\"new_file.txt\")\n",
    "print(\"Deleted 'new_file.txt'.\")\n",
    "print(f\"'new_file.txt' exists? {os.path.exists('new_file.txt')}\")"
   ]
  },
  {
   "cell_type": "markdown",
   "metadata": {},
   "source": [
    "### c. Listing Directory Contents and Joining Paths\n",
    "\n",
    "* `os.listdir(path='.')`: Returns a list containing the names of all files and directories in the specified `path`. Defaults to the current directory.\n",
    "* `os.path.join(path1, path2, ...)`: Intelligently joins path components, handling different path separators across operating systems (e.g., `/` on Linux/macOS, `\\` on Windows).\n",
    "\n",
    "**Example:**"
   ]
  },
  {
   "cell_type": "code",
   "execution_count": 3,
   "metadata": {},
   "outputs": [
    {
     "name": "stdout",
     "output_type": "stream",
     "text": [
      "\n",
      "--- Listing Directory Contents ---\n",
      "Contents of 'temp_dir': ['file1.txt', 'file2.py', 'sub_temp']\n",
      "\n",
      "--- Joining Paths ---\n",
      "Joined path: my_project\\data\\raw_data.csv\n",
      "Cleaned up 'temp_dir'.\n"
     ]
    }
   ],
   "source": [
    "import os\n",
    "\n",
    "# Create some dummy files and directories\n",
    "os.makedirs(\"temp_dir/sub_temp\", exist_ok=True)\n",
    "with open(\"temp_dir/file1.txt\", \"w\") as f: pass\n",
    "with open(\"temp_dir/file2.py\", \"w\") as f: pass\n",
    "\n",
    "print(\"\\n--- Listing Directory Contents ---\")\n",
    "contents = os.listdir(\"temp_dir\")\n",
    "print(f\"Contents of 'temp_dir': {contents}\")\n",
    "\n",
    "print(\"\\n--- Joining Paths ---\")\n",
    "full_path = os.path.join(\"my_project\", \"data\", \"raw_data.csv\")\n",
    "print(f\"Joined path: {full_path}\")\n",
    "\n",
    "# Clean up\n",
    "os.remove(os.path.join(\"temp_dir\", \"file1.txt\"))\n",
    "os.remove(os.path.join(\"temp_dir\", \"file2.py\"))\n",
    "os.rmdir(os.path.join(\"temp_dir\", \"sub_temp\"))\n",
    "os.rmdir(\"temp_dir\")\n",
    "print(\"Cleaned up 'temp_dir'.\")"
   ]
  },
  {
   "cell_type": "markdown",
   "metadata": {},
   "source": [
    "---\n",
    "\n",
    "## 2. The `sys` Module: Accessing Command-Line Arguments, Python Path\n",
    "\n",
    "The `sys` (system) module provides access to variables and functions that interact strongly with the Python interpreter and its environment.\n",
    "\n",
    "### a. Accessing Command-Line Arguments (`sys.argv`)\n",
    "\n",
    "`sys.argv` is a list containing the command-line arguments passed to the Python script.\n",
    "* `sys.argv[0]` is the name of the script.\n",
    "* `sys.argv[1]` is the first argument, `sys.argv[2]` is the second, and so on.\n",
    "\n",
    "**Example:**\n",
    "\n",
    "Suppose you have a file `my_script.py` with the content:\n",
    "\n",
    "```python\n",
    "# my_script.py\n",
    "import sys\n",
    "\n",
    "print(f\"Script name: {sys.argv[0]}\")\n",
    "if len(sys.argv) > 1:\n",
    "    print(f\"First argument: {sys.argv[1]}\")\n",
    "    print(f\"All arguments: {sys.argv[1:]}\")\n",
    "else:\n",
    "    print(\"No arguments passed.\")\n",
    "```\n",
    "To run this script from the terminal:\n",
    "`python my_script.py hello world 123`\n",
    "\n",
    "**Result when run from terminal:**\n",
    "```\n",
    "Script name: my_script.py\n",
    "First argument: hello\n",
    "All arguments: ['hello', 'world', '123']\n",
    "```\n",
    "\n",
    "### b. Module Search Path (`sys.path`)\n",
    "\n",
    "`sys.path` is a list of strings that specifies the search path for modules. When you use an `import` statement, the Python interpreter looks for modules in the directories listed in `sys.path`.\n",
    "\n",
    "**Example:**"
   ]
  },
  {
   "cell_type": "code",
   "execution_count": 4,
   "metadata": {},
   "outputs": [
    {
     "name": "stdout",
     "output_type": "stream",
     "text": [
      "\n",
      "--- Module Search Path (sys.path) ---\n",
      "C:\\Users\\nbh\\AppData\\Local\\Programs\\Python\\Python312\\python312.zip\n",
      "C:\\Users\\nbh\\AppData\\Local\\Programs\\Python\\Python312\\DLLs\n",
      "C:\\Users\\nbh\\AppData\\Local\\Programs\\Python\\Python312\\Lib\n",
      "C:\\Users\\nbh\\AppData\\Local\\Programs\\Python\\Python312\n",
      "c:\\Users\\nbh\\AILectures\\python-basic-course\\venv\n",
      "\n",
      "c:\\Users\\nbh\\AILectures\\python-basic-course\\venv\\Lib\\site-packages\n",
      "c:\\Users\\nbh\\AILectures\\python-basic-course\\venv\\Lib\\site-packages\\win32\n",
      "c:\\Users\\nbh\\AILectures\\python-basic-course\\venv\\Lib\\site-packages\\win32\\lib\n",
      "c:\\Users\\nbh\\AILectures\\python-basic-course\\venv\\Lib\\site-packages\\Pythonwin\n"
     ]
    }
   ],
   "source": [
    "import sys\n",
    "\n",
    "print(\"\\n--- Module Search Path (sys.path) ---\")\n",
    "for path in sys.path:\n",
    "    print(path)\n",
    "\n",
    "# You can temporarily add paths to sys.path to import modules not in default locations\n",
    "# sys.path.append('/path/to/your/custom/modules')\n",
    "# import custom_module"
   ]
  },
  {
   "cell_type": "markdown",
   "metadata": {},
   "source": [
    "### c. Exiting the Program (`sys.exit()`)\n",
    "\n",
    "`sys.exit(status_code=0)` is used to exit the Python program.\n",
    "* `status_code` is an integer (default is 0). 0 typically indicates successful exit, other values indicate an error.\n",
    "\n",
    "**Example:**"
   ]
  },
  {
   "cell_type": "code",
   "execution_count": 5,
   "metadata": {},
   "outputs": [
    {
     "name": "stdout",
     "output_type": "stream",
     "text": [
      "Data is being processed...\n",
      "Data processing complete.\n"
     ]
    }
   ],
   "source": [
    "import sys\n",
    "\n",
    "def process_data(data):\n",
    "    if not data:\n",
    "        print(\"Error: Empty data. Exiting program.\")\n",
    "        sys.exit(1) # Exit with error code 1\n",
    "    print(\"Data is being processed...\")\n",
    "    # ... processing logic ...\n",
    "    print(\"Data processing complete.\")\n",
    "\n",
    "# To test, uncomment the line below. It will stop execution.\n",
    "# process_data([]) # This will exit the program\n",
    "# print(\"This line will not be printed if the program exits.\")\n",
    "\n",
    "process_data([1, 2, 3]) # This will run normally"
   ]
  },
  {
   "cell_type": "markdown",
   "metadata": {},
   "source": [
    "---\n",
    "\n",
    "## 3. The `shutil` Module: Higher-Level File Operations\n",
    "\n",
    "The `shutil` (shell utilities) module provides higher-level functions for file and directory operations, often used for more complex tasks than the `os` module.\n",
    "\n",
    "### a. Copying Files (`shutil.copy()`, `shutil.copyfile()`)\n",
    "\n",
    "* `shutil.copy(src, dst)`: Copies a file from `src` to `dst`. `dst` can be a directory (the file will be copied into it with its original name) or a new filename. It also copies permissions.\n",
    "* `shutil.copyfile(src, dst)`: Copies the contents of a file from `src` to `dst`. `dst` must be a filename. It does not copy permissions.\n",
    "\n",
    "**Example:**"
   ]
  },
  {
   "cell_type": "code",
   "execution_count": 6,
   "metadata": {},
   "outputs": [
    {
     "name": "stdout",
     "output_type": "stream",
     "text": [
      "\n",
      "--- Copying files with shutil ---\n",
      "Copied 'source_file.txt' to 'destination_copy.txt'.\n",
      "Copied 'source_file.txt' into 'backup_dir/'.\n",
      "Cleaned up copied files and directories.\n"
     ]
    }
   ],
   "source": [
    "import shutil\n",
    "import os\n",
    "\n",
    "# Create source file\n",
    "with open(\"source_file.txt\", \"w\") as f:\n",
    "    f.write(\"Content of the source file.\")\n",
    "\n",
    "print(\"\\n--- Copying files with shutil ---\")\n",
    "# Copy file\n",
    "shutil.copy(\"source_file.txt\", \"destination_copy.txt\")\n",
    "print(\"Copied 'source_file.txt' to 'destination_copy.txt'.\")\n",
    "\n",
    "# Copy file into a directory (if directory doesn't exist, it will error)\n",
    "os.makedirs(\"backup_dir\", exist_ok=True)\n",
    "shutil.copy(\"source_file.txt\", \"backup_dir/\") # Note the trailing slash for directory\n",
    "print(\"Copied 'source_file.txt' into 'backup_dir/'.\")\n",
    "\n",
    "# Clean up\n",
    "os.remove(\"source_file.txt\")\n",
    "os.remove(\"destination_copy.txt\")\n",
    "os.remove(os.path.join(\"backup_dir\", \"source_file.txt\"))\n",
    "os.rmdir(\"backup_dir\")\n",
    "print(\"Cleaned up copied files and directories.\")"
   ]
  },
  {
   "cell_type": "markdown",
   "metadata": {},
   "source": [
    "### b. Moving Files/Directories (`shutil.move()`)\n",
    "\n",
    "* `shutil.move(src, dst)`: Moves a file or directory from `src` to `dst`. If `dst` is a directory, `src` will be moved inside that directory. If `dst` is a filename, `src` will be renamed to `dst`.\n",
    "\n",
    "**Example:**"
   ]
  },
  {
   "cell_type": "code",
   "execution_count": 7,
   "metadata": {},
   "outputs": [
    {
     "name": "stdout",
     "output_type": "stream",
     "text": [
      "\n",
      "--- Moving files with shutil.move() ---\n",
      "Moved 'file_to_move.txt' to 'new_location/moved_file.txt'.\n",
      "Cleaned up moved files and directories.\n"
     ]
    }
   ],
   "source": [
    "import shutil\n",
    "import os\n",
    "\n",
    "# Create file to move\n",
    "with open(\"file_to_move.txt\", \"w\") as f:\n",
    "    f.write(\"Content to be moved.\")\n",
    "\n",
    "os.makedirs(\"new_location\", exist_ok=True)\n",
    "\n",
    "print(\"\\n--- Moving files with shutil.move() ---\")\n",
    "shutil.move(\"file_to_move.txt\", \"new_location/moved_file.txt\")\n",
    "print(\"Moved 'file_to_move.txt' to 'new_location/moved_file.txt'.\")\n",
    "\n",
    "# Clean up\n",
    "os.remove(os.path.join(\"new_location\", \"moved_file.txt\"))\n",
    "os.rmdir(\"new_location\")\n",
    "print(\"Cleaned up moved files and directories.\")"
   ]
  },
  {
   "cell_type": "markdown",
   "metadata": {},
   "source": [
    "### c. Deleting Directory Trees (`shutil.rmtree()`)\n",
    "\n",
    "* `shutil.rmtree(path)`: Deletes an entire directory and all its contents (files and subdirectories). **Be extremely careful when using this function as it will permanently delete data.**\n",
    "\n",
    "**Example:**"
   ]
  },
  {
   "cell_type": "code",
   "execution_count": 8,
   "metadata": {},
   "outputs": [
    {
     "name": "stdout",
     "output_type": "stream",
     "text": [
      "\n",
      "--- Deleting directory trees with shutil.rmtree() ---\n",
      "Deleted directory 'folder_to_delete' and all its contents.\n"
     ]
    }
   ],
   "source": [
    "import shutil\n",
    "import os\n",
    "\n",
    "# Create a directory with content\n",
    "os.makedirs(\"folder_to_delete/subfolder\", exist_ok=True)\n",
    "with open(\"folder_to_delete/file_in_folder.txt\", \"w\") as f:\n",
    "    f.write(\"Content.\")\n",
    "\n",
    "print(\"\\n--- Deleting directory trees with shutil.rmtree() ---\")\n",
    "if os.path.exists(\"folder_to_delete\"):\n",
    "    shutil.rmtree(\"folder_to_delete\")\n",
    "    print(\"Deleted directory 'folder_to_delete' and all its contents.\")\n",
    "else:\n",
    "    print(\"Directory 'folder_to_delete' does not exist.\")"
   ]
  },
  {
   "cell_type": "markdown",
   "metadata": {},
   "source": [
    "---\n",
    "\n",
    "**Practice Exercises:**\n",
    "\n",
    "1.  **Directory Operations with `os`:**\n",
    "    * Create a directory named `my_temp_files`.\n",
    "    * Change the current working directory into `my_temp_files`.\n",
    "    * Print the current working directory.\n",
    "    * Create an empty file named `test.txt` inside `my_temp_files`.\n",
    "    * Change back to the original working directory.\n",
    "    * Delete `test.txt` and then delete the `my_temp_files` directory. Ensure error handling if the file/directory doesn't exist or is not empty.\n",
    "2.  **Using `sys.argv`:**\n",
    "    * Write a Python script (e.g., `greeting_script.py`) that accepts a name as a command-line argument.\n",
    "    * If an argument is provided, print \"Hello, <name>!\".\n",
    "    * If no argument is provided, print \"Please provide a name.\".\n",
    "    * Run this script from the terminal with and without an argument.\n",
    "3.  **Copying and Moving Files with `shutil`:**\n",
    "    * Create an original file named `original.txt` with some content.\n",
    "    * Create a directory named `archives`.\n",
    "    * Copy `original.txt` into the `archives` directory and rename it to `original_copy.txt`.\n",
    "    * Move `original.txt` (the original file) into the `archives` directory, keeping its original name.\n",
    "    * Check the contents of the `archives` directory after these operations.\n",
    "    * Clean up the `archives` directory using `shutil.rmtree()`."
   ]
  }
 ],
 "metadata": {
  "kernelspec": {
   "display_name": "venv",
   "language": "python",
   "name": "python3"
  },
  "language_info": {
   "codemirror_mode": {
    "name": "ipython",
    "version": 3
   },
   "file_extension": ".py",
   "mimetype": "text/x-python",
   "name": "python",
   "nbconvert_exporter": "python",
   "pygments_lexer": "ipython3",
   "version": "3.12.7"
  }
 },
 "nbformat": 4,
 "nbformat_minor": 5
}
